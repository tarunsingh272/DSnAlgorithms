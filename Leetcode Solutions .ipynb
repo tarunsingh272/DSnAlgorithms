{
 "cells": [
  {
   "cell_type": "markdown",
   "id": "174dddb2",
   "metadata": {},
   "source": [
    "https://leetcode.com/articles/two-pointer-technique/\n",
    "https://www.geeksforgeeks.org/two-pointers-technique/\n",
    "https://en.wikipedia.org/wiki/Longest_common_substring_problem\n",
    "https://www.geeksforgeeks.org/backtracking-algorithms/\n"
   ]
  },
  {
   "cell_type": "code",
   "execution_count": null,
   "id": "a1722903",
   "metadata": {},
   "outputs": [
    {
     "data": {
      "text/plain": [
       "{' ', 'S', 'T', 'a', 'g', 'h', 'i', 'n', 'r', 'u'}"
      ]
     },
     "metadata": {},
     "output_type": "display_data"
    }
   ],
   "source": [
    "text = \"Tarun Singh\"\n",
    "set(text)"
   ]
  },
  {
   "cell_type": "code",
   "execution_count": 9,
   "id": "c4e204a9",
   "metadata": {},
   "outputs": [
    {
     "data": {
      "text/plain": [
       "{'T': 1,\n",
       " 'a': 1,\n",
       " 'g': 1,\n",
       " 'i': 1,\n",
       " ' ': 1,\n",
       " 'u': 1,\n",
       " 'r': 1,\n",
       " 'n': 2,\n",
       " 'S': 1,\n",
       " 'h': 1}"
      ]
     },
     "execution_count": 9,
     "metadata": {},
     "output_type": "execute_result"
    }
   ],
   "source": [
    "{i:text.count(i) for i in set(text)}"
   ]
  },
  {
   "cell_type": "markdown",
   "id": "a64a0942",
   "metadata": {},
   "source": [
    "### Problem 1\n",
    "\n",
    "https://leetcode.com/problems/two-sum-ii-input-array-is-sorted/\n",
    "\n",
    "Given an array of integers numbers that is already sorted in non-decreasing order, find two numbers such that they add up to a specific target number.\n",
    "Return the indices of the two numbers (1-indexed) as an integer array answer of size 2, where 1 <= answer[0] < answer[1] <= numbers.length.\n",
    "\n",
    "The tests are generated such that there is exactly one solution. You may not use the same element twice.\n",
    "\n",
    "Example 1:\n",
    "Input: numbers = [2,7,11,15], target = 9  \n",
    "Output: [1,2]  \n",
    "Explanation: The sum of 2 and 7 is 9. Therefore index1 = 1, index2 = 2.  \n",
    "\n",
    "\n",
    "Example 2:  \n",
    "Input: numbers = [2,3,4], target = 6  \n",
    "Output: [1,3]  \n",
    "\n",
    "Example 3:\n",
    "Input: numbers = [-1,0], target = -1  \n",
    "Output: [1,2]  \n",
    " \n",
    "\n",
    "Constraints:\n",
    "2 <= numbers.length <= 3 * 104  \n",
    "-1000 <= numbers[i] <= 1000  \n",
    "numbers is sorted in non-decreasing order.  \n",
    "-1000 <= target <= 1000  \n",
    "The tests are generated such that there is exactly one solution."
   ]
  },
  {
   "cell_type": "code",
   "execution_count": 10,
   "id": "fc63c533",
   "metadata": {},
   "outputs": [
    {
     "name": "stdout",
     "output_type": "stream",
     "text": [
      "[2, 3]\n"
     ]
    }
   ],
   "source": [
    "class Solution(object):\n",
    "    def twoSum(self, nums, target):\n",
    "            # two point\n",
    "            nums_index = [(val, index) for index, val in enumerate(nums)]\n",
    "            nums_index.sort() # Sort by the values not index\n",
    "            begin, end = 0, len(nums) - 1\n",
    "            while begin < end:\n",
    "                curr = nums_index[begin][0] + nums_index[end][0]\n",
    "                if curr == target:\n",
    "                    return [nums_index[begin][1]+1, nums_index[end][1]+1]\n",
    "                elif curr < target:\n",
    "                    begin += 1\n",
    "                else:\n",
    "                    end -= 1\n",
    "\n",
    "\n",
    "if __name__ == '__main__':\n",
    "    # begin\n",
    "    s = Solution()\n",
    "    print(s.twoSum([3, 2, 4], 6))"
   ]
  },
  {
   "cell_type": "code",
   "execution_count": 11,
   "id": "305a5006",
   "metadata": {},
   "outputs": [],
   "source": [
    "nums = [12,7,11,5]\n",
    "nums_index = [(val, index) for index, val in enumerate(nums)]"
   ]
  },
  {
   "cell_type": "code",
   "execution_count": 12,
   "id": "1353268c",
   "metadata": {},
   "outputs": [
    {
     "name": "stdout",
     "output_type": "stream",
     "text": [
      "Return type: <class 'enumerate'>\n",
      "[(0, 'eat'), (1, 'sleep'), (2, 'repeat')]\n",
      "[(2, 'g'), (3, 'e'), (4, 'e'), (5, 'k')]\n"
     ]
    }
   ],
   "source": [
    "l1 = [\"eat\",\"sleep\",\"repeat\"]\n",
    "s1 = \"geek\"\n",
    " \n",
    "# creating enumerate objects\n",
    "obj1 = enumerate(l1)\n",
    "obj2 = enumerate(s1)\n",
    " \n",
    "print (\"Return type:\",type(obj1))\n",
    "print (list(enumerate(l1)))\n",
    " \n",
    "# changing start index to 2 from 0\n",
    "print (list(enumerate(s1,2)))"
   ]
  },
  {
   "cell_type": "code",
   "execution_count": 13,
   "id": "f0492ebe",
   "metadata": {},
   "outputs": [
    {
     "data": {
      "text/plain": [
       "[(12, 0), (7, 1), (11, 2), (5, 3)]"
      ]
     },
     "execution_count": 13,
     "metadata": {},
     "output_type": "execute_result"
    }
   ],
   "source": [
    "nums_index"
   ]
  },
  {
   "cell_type": "code",
   "execution_count": 14,
   "id": "34d83889",
   "metadata": {},
   "outputs": [],
   "source": [
    "nums_index.sort()"
   ]
  },
  {
   "cell_type": "code",
   "execution_count": 15,
   "id": "9fc9d043",
   "metadata": {},
   "outputs": [
    {
     "data": {
      "text/plain": [
       "[(5, 3), (7, 1), (11, 2), (12, 0)]"
      ]
     },
     "execution_count": 15,
     "metadata": {},
     "output_type": "execute_result"
    }
   ],
   "source": [
    "nums_index"
   ]
  },
  {
   "cell_type": "code",
   "execution_count": 16,
   "id": "a04186c1",
   "metadata": {},
   "outputs": [
    {
     "data": {
      "text/plain": [
       "[1, 2]"
      ]
     },
     "execution_count": 16,
     "metadata": {},
     "output_type": "execute_result"
    }
   ],
   "source": [
    "numbers = [2,7,11,15]\n",
    "target = 9\n",
    "a = Solution()\n",
    "a.twoSum(numbers, target)"
   ]
  },
  {
   "cell_type": "code",
   "execution_count": 17,
   "id": "1a30dc73",
   "metadata": {},
   "outputs": [],
   "source": [
    "# Solution 2 \n",
    "class Solution(object):\n",
    "    def twoSum(self, nums, target):\n",
    "        \"\"\"\n",
    "        :type nums: List[int]\n",
    "        :type target: int\n",
    "        :rtype: List[int]\n",
    "        \"\"\"\n",
    "        dict = {}\n",
    "        for i in range(len(nums)):\n",
    "            x = nums[i]\n",
    "            if target-x in dict:\n",
    "                return (dict[target-x], i)\n",
    "            dict[x] = i"
   ]
  },
  {
   "cell_type": "code",
   "execution_count": null,
   "id": "50fcab3e",
   "metadata": {},
   "outputs": [],
   "source": [
    "import collections\n",
    "\n",
    "class TwoSum(object):\n",
    "\n",
    "    def __init__(self):\n",
    "        \"\"\"\n",
    "        initialize your data structure here\n",
    "        \"\"\"\n",
    "        self.__num_list = collections.defaultdict(int)\n",
    "\n",
    "\n",
    "    def add(self, number):\n",
    "        \"\"\"\n",
    "        Add the number to an internal data structure.\n",
    "        :rtype: nothing\n",
    "        \"\"\"\n",
    "        self.__num_list[number] += 1\n",
    "\n",
    "\n",
    "    def find(self, value):\n",
    "        \"\"\"\n",
    "        Find if there exists any pair of numbers which sum is equal to the value.\n",
    "        :type value: int\n",
    "        :rtype: bool\n",
    "        \"\"\"\n",
    "        if len(self.__num_list) == 0:\n",
    "            return False\n",
    "        else:\n",
    "            for entries in self.__num_list.keys():\n",
    "                target = value - entries\n",
    "                if (target in self.__num_list) and (entries != target or self.__num_list[target] > 1):\n",
    "                    return True\n",
    "            return False\n",
    "\n",
    "if __name__ == \"__main__\":\n",
    "    # Your TwoSum object will be instantiated and called as such:\n",
    "    twoSum = TwoSum()\n",
    "    twoSum.add(0)\n",
    "    twoSum.add(1)\n",
    "    print(twoSum.find(2))"
   ]
  },
  {
   "cell_type": "markdown",
   "id": "2ebc70ac",
   "metadata": {},
   "source": [
    "### Problem 2\n",
    "https://leetcode.com/problems/add-two-numbers/\n",
    "https://www.educative.io/edpresso/how-to-create-a-linked-list-in-python\n",
    "\n",
    "You are given two non-empty linked lists representing two non-negative integers. The digits are stored in reverse order, and each of their nodes contains a single digit. Add the two numbers and return the sum as a linked list.\n",
    "\n",
    "You may assume the two numbers do not contain any leading zero, except the number 0 itself.\n",
    "\n",
    "Input: l1 = [2,4,3], l2 = [5,6,4]\n",
    "Output: [7,0,8]\n",
    "Explanation: 342 + 465 = 807.\n",
    "Example 2:\n",
    "\n",
    "Input: l1 = [0], l2 = [0]\n",
    "Output: [0]\n",
    "Example 3:\n",
    "\n",
    "Input: l1 = [9,9,9,9,9,9,9], l2 = [9,9,9,9]\n",
    "Output: [8,9,9,9,0,0,0,1]\n",
    " \n",
    "\n",
    "Constraints:\n",
    "\n",
    "The number of nodes in each linked list is in the range [1, 100].\n",
    "0 <= Node.val <= 9\n",
    "It is guaranteed that the list represents a number that does not have leading zeros."
   ]
  },
  {
   "cell_type": "code",
   "execution_count": 18,
   "id": "855ecdff",
   "metadata": {},
   "outputs": [
    {
     "name": "stdout",
     "output_type": "stream",
     "text": [
      "3\n"
     ]
    }
   ],
   "source": [
    "# Creating Linked List in Python\n",
    "# A single node of a singly linked list\n",
    "\n",
    "class Node:\n",
    "  # constructor\n",
    "  def __init__(self, data=0, next=None): \n",
    "    self.data = data\n",
    "    self.next = next\n",
    "\n",
    "# Creating a single node\n",
    "first = Node(3)\n",
    "print(first.data)"
   ]
  },
  {
   "cell_type": "markdown",
   "id": "dd953456",
   "metadata": {},
   "source": [
    "The next step is to join multiple single nodes containing data using the next pointers, and have a single head pointer pointing to a complete instance of a Linked List.\n",
    "\n",
    "Using the head pointer, we will be able to traverse the whole list, even perform all kinds of list manipulations while we are at it.\n",
    "\n",
    "For this, we create a LinkedList class with a single head pointer:"
   ]
  },
  {
   "cell_type": "code",
   "execution_count": 19,
   "id": "6dd44d57",
   "metadata": {},
   "outputs": [
    {
     "name": "stdout",
     "output_type": "stream",
     "text": [
      "3\n"
     ]
    }
   ],
   "source": [
    "# A single node of a singly linked list\n",
    "class Node:\n",
    "  # constructor\n",
    "    def __init__(self, data = None, next=None): \n",
    "        self.data = data\n",
    "        self.next = next\n",
    "\n",
    "# A Linked List class with a single head node\n",
    "class LinkedList:\n",
    "    def __init__(self):\n",
    "        self.head = None\n",
    "\n",
    "# Linked List with a single node\n",
    "LL = LinkedList()\n",
    "LL.head = Node(3)\n",
    "print(LL.head.data)"
   ]
  },
  {
   "cell_type": "markdown",
   "id": "ef248c14",
   "metadata": {},
   "source": [
    "Last but not least, we can add various linked list manipulation methods in our implementation.\n",
    "\n",
    "Let’s have a look at the insertion and print methods for our LinkedList implementation below:"
   ]
  },
  {
   "cell_type": "code",
   "execution_count": 20,
   "id": "c854eacb",
   "metadata": {},
   "outputs": [
    {
     "name": "stdout",
     "output_type": "stream",
     "text": [
      "3\n"
     ]
    }
   ],
   "source": [
    "# A single node of a singly linked list\n",
    "class Node:\n",
    "  # constructor\n",
    "  def __init__(self, data = None, next=None): \n",
    "    self.data = data\n",
    "    self.next = next\n",
    "\n",
    "# A Linked List class with a single head node\n",
    "class LinkedList:\n",
    "    def __init__(self):  \n",
    "        self.head = None\n",
    "  \n",
    "  # insertion method for the linked list\n",
    "    def insert(self, data):\n",
    "        newNode = Node(data)\n",
    "        if(self.head):\n",
    "            current = self.head\n",
    "            while(current.next):\n",
    "                current = current.next\n",
    "                current.next = newNode\n",
    "        else:\n",
    "            self.head = newNode\n",
    "\n",
    "  # print method for the linked list\n",
    "    def printLL(self):\n",
    "        current = self.head\n",
    "        while(current):\n",
    "            print(current.data)\n",
    "            current = current.next\n",
    "\n",
    "# Singly Linked List with insertion and print methods\n",
    "LL = LinkedList()\n",
    "LL.insert(3)\n",
    "LL.insert(4)\n",
    "LL.insert(5)\n",
    "LL.printLL()"
   ]
  },
  {
   "cell_type": "code",
   "execution_count": 21,
   "id": "84850408",
   "metadata": {},
   "outputs": [],
   "source": [
    "# Definition for singly-linked list.\n",
    "class ListNode(object):\n",
    "    def __init__(self, x):\n",
    "        self.val = x\n",
    "        self.next = None\n",
    "\n",
    "class Solution(object):\n",
    "    def addTwoNumbers(self, l1, l2):\n",
    "        \"\"\"\n",
    "        :type l1: ListNode\n",
    "        :type l2: ListNode\n",
    "        :rtype: ListNode\n",
    "        \"\"\"\n",
    "        result = ListNode(0)\n",
    "        result_tail = result\n",
    "        carry = 0\n",
    "                \n",
    "        while l1 or l2 or carry:            \n",
    "            val1  = (l1.val if l1 else 0)\n",
    "            val2  = (l2.val if l2 else 0)\n",
    "            carry, out = divmod(val1+val2 + carry, 10)    \n",
    "                      \n",
    "            result_tail.next = ListNode(out)\n",
    "            result_tail = result_tail.next                      \n",
    "            \n",
    "            l1 = (l1.next if l1 else None)\n",
    "            l2 = (l2.next if l2 else None)\n",
    "               \n",
    "        return result.next"
   ]
  },
  {
   "cell_type": "markdown",
   "id": "1553ac29",
   "metadata": {},
   "source": [
    "![title](1.png)\n",
    "![title](2.png)"
   ]
  },
  {
   "cell_type": "markdown",
   "id": "8bc2f0c0",
   "metadata": {},
   "source": [
    "### Problem 3\n",
    "https://leetcode.com/problems/longest-substring-without-repeating-characters/\n",
    "\n",
    "Given a string s, find the length of the longest substring without repeating characters.\n",
    "\n",
    " \n",
    "\n",
    "Example 1:\n",
    "\n",
    "Input: s = \"abcabcbb\"\n",
    "Output: 3\n",
    "Explanation: The answer is \"abc\", with the length of 3.\n",
    "\n",
    "\n",
    "Example 2:\n",
    "\n",
    "Input: s = \"bbbbb\"\n",
    "Output: 1\n",
    "Explanation: The answer is \"b\", with the length of 1.\n",
    "\n",
    "\n",
    "Example 3:\n",
    "\n",
    "Input: s = \"pwwkew\"\n",
    "Output: 3\n",
    "Explanation: The answer is \"wke\", with the length of 3.\n",
    "Notice that the answer must be a substring, \"pwke\" is a subsequence and not a substring.\n",
    "\n",
    "\n",
    "Example 4:\n",
    "\n",
    "Input: s = \"\"\n",
    "Output: 0\n",
    " \n",
    "\n",
    "Constraints:\n",
    "\n",
    "0 <= s.length <= 5 * 104  \n",
    "s consists of English letters, digits, symbols and spaces."
   ]
  },
  {
   "cell_type": "markdown",
   "id": "2e0c3660",
   "metadata": {},
   "source": [
    "Approach: \n",
    "The idea is to traverse the string and for each already visited character store its last occurrence in a hash table (Here unordered_map is used as a hash with key as character and value as its last position).  \n",
    "The variable st stores the starting point of the current substring, maxlen stores the length of maximum length substring, and start stores the starting index of maximum length substring.  \n",
    "While traversing the string, check whether the current character is present in the hash table or not. If it is not present, then store the current character in the hash table with value as the current index. If it is already present in the hash table, this means the current character could repeat in the current substring. \n",
    "For this check, if the previous occurrence of character is before or after the starting point st of the current substring. If it is before st, then only update the value in the hash table. If it is after st, then find the length of current substring currlen as i-st, where i is the current index. Compare currlen with maxlen. If maxlen is less than currlen, then update maxlen as currlen and start as st. After complete traversal of the string, the required the longest substring without repeating characters is from s[start] to s[start+maxlen-1]. "
   ]
  },
  {
   "cell_type": "code",
   "execution_count": 22,
   "id": "caba5dff",
   "metadata": {},
   "outputs": [],
   "source": [
    "# Refernce Link : https://www.geeksforgeeks.org/print-longest-substring-without-repeating-characters/\n",
    "\n",
    "def lengthOfLongestSubstring(s):\n",
    "    # https://leetcode.com/articles/longest-substring-without-repeating-characters/\n",
    "    charMap = {}  # Empty Disctionary\n",
    "    for i in range(256):\n",
    "        charMap[i] = -1\n",
    "    ls = len(s)\n",
    "    i = max_len = 0\n",
    "    for j in range(ls):\n",
    "        # Note that when charMap[ord(s[j])] >= i, it means that there are\n",
    "        # duplicate character in current i,j. So we need to update i.\n",
    "        if charMap[ord(s[j])] >= i:\n",
    "            i = charMap[ord(s[j])] + 1\n",
    "        charMap[ord(s[j])] = j\n",
    "        max_len = max(max_len, j - i + 1)\n",
    "    return max_len"
   ]
  },
  {
   "cell_type": "markdown",
   "id": "8eb3f114",
   "metadata": {},
   "source": [
    "In Python, the ord() function accepts a string of unit length as an argument and returns the Unicode equivalence of the passed argument. In other words, given string of length 1, the ord() function returns an integer representing the Unicode code point of the character when the argument is a Unicode object, or the value of the byte when the argument is an 8-bit string."
   ]
  },
  {
   "cell_type": "code",
   "execution_count": 23,
   "id": "b6e075bf",
   "metadata": {},
   "outputs": [
    {
     "name": "stdout",
     "output_type": "stream",
     "text": [
      "97\n",
      "65\n",
      "48\n"
     ]
    }
   ],
   "source": [
    "print(ord('a'))\n",
    "print(ord('A'))\n",
    "print(ord('0'))"
   ]
  },
  {
   "cell_type": "code",
   "execution_count": 24,
   "id": "5019049e",
   "metadata": {},
   "outputs": [
    {
     "data": {
      "text/plain": [
       "3"
      ]
     },
     "execution_count": 24,
     "metadata": {},
     "output_type": "execute_result"
    }
   ],
   "source": [
    "s = \"abcabbccd\"\n",
    "lengthOfLongestSubstring(s)"
   ]
  },
  {
   "cell_type": "markdown",
   "id": "17ddc93c",
   "metadata": {},
   "source": [
    "### Problem 4\n",
    "https://leetcode.com/problems/median-of-two-sorted-arrays/\n",
    "\n",
    "Given two sorted arrays nums1 and nums2 of size m and n respectively, return the median of the two sorted arrays.\n",
    "\n",
    "The overall run time complexity should be O(log (m+n)).\n",
    "\n",
    " \n",
    "\n",
    "Example 1:\n",
    "\n",
    "Input: nums1 = [1,3], nums2 = [2]\n",
    "Output: 2.00000\n",
    "Explanation: merged array = [1,2,3] and median is 2.\n",
    "Example 2:\n",
    "\n",
    "Input: nums1 = [1,2], nums2 = [3,4]\n",
    "Output: 2.50000\n",
    "Explanation: merged array = [1,2,3,4] and median is (2 + 3) / 2 = 2.5.\n",
    "Example 3:\n",
    "\n",
    "Input: nums1 = [0,0], nums2 = [0,0]\n",
    "Output: 0.00000\n",
    "Example 4:\n",
    "\n",
    "Input: nums1 = [], nums2 = [1]\n",
    "Output: 1.00000\n",
    "Example 5:\n",
    "\n",
    "Input: nums1 = [2], nums2 = []\n",
    "Output: 2.00000\n",
    " \n",
    "\n",
    "Constraints:\n",
    "\n",
    "nums1.length == m\n",
    "nums2.length == n\n",
    "0 <= m <= 1000\n",
    "0 <= n <= 1000\n",
    "1 <= m + n <= 2000\n",
    "-106 <= nums1[i], nums2[i] <= 106"
   ]
  },
  {
   "cell_type": "code",
   "execution_count": 25,
   "id": "62eeccd3",
   "metadata": {},
   "outputs": [
    {
     "name": "stdout",
     "output_type": "stream",
     "text": [
      "Median =  3\n"
     ]
    }
   ],
   "source": [
    "# Python3 program for the above approach\n",
    "def Solution(arr):\n",
    "  \n",
    "    n = len(arr)\n",
    "  \n",
    "    # If length of array is even\n",
    "    if n % 2 == 0:\n",
    "        z = n // 2\n",
    "        e = arr[z]\n",
    "        q = arr[z - 1]\n",
    "        ans = (e + q) / 2\n",
    "        return ans\n",
    "          \n",
    "    # If length of array is odd\n",
    "    else:\n",
    "        z = n // 2\n",
    "        ans = arr[z]\n",
    "        return ans\n",
    "  \n",
    "# Driver code\n",
    "if __name__ == \"__main__\":\n",
    "      \n",
    "    arr1 = [ -5, 3, 6, 12, 15 ]\n",
    "    arr2 = [ -12, -10, -6, -3, 4, 10 ]\n",
    "  \n",
    "    # Concatenating the two arrays\n",
    "    arr3 = arr1 + arr2\n",
    "  \n",
    "    # Sorting the resultant array\n",
    "    arr3.sort()\n",
    "  \n",
    "    print(\"Median = \", Solution(arr3))\n",
    "      \n",
    "# This code is contributed by kush11"
   ]
  },
  {
   "cell_type": "code",
   "execution_count": 26,
   "id": "24500a32-e421-4e90-8966-c9337261e5f1",
   "metadata": {},
   "outputs": [
    {
     "ename": "TabError",
     "evalue": "inconsistent use of tabs and spaces in indentation (3252226676.py, line 20)",
     "output_type": "error",
     "traceback": [
      "\u001b[0;36m  File \u001b[0;32m\"/var/folders/3s/ml2_70310395dkxnv0q498lr0000gn/T/ipykernel_1285/3252226676.py\"\u001b[0;36m, line \u001b[0;32m20\u001b[0m\n\u001b[0;31m    else:\u001b[0m\n\u001b[0m         ^\u001b[0m\n\u001b[0;31mTabError\u001b[0m\u001b[0;31m:\u001b[0m inconsistent use of tabs and spaces in indentation\n"
     ]
    }
   ],
   "source": [
    "class Solution:\n",
    "    def findMedianSortedArrays(self, nums1: List[int], nums2: List[int]) -> float:\n",
    "        \n",
    "        m,n = len(nums1),len(nums2)\n",
    "        \n",
    "        if m+n<1:\n",
    "            return -1\n",
    "        \n",
    "        merge = []\n",
    "        merge = sorted(nums1 + nums2)\n",
    "                \n",
    "        a = len(merge)\n",
    "        if a==1:\n",
    "            return merge[0]\n",
    "        \n",
    "        b = ceil(a/2)\n",
    "        \n",
    "        if a%2==0:\n",
    "            return (merge[b]+merge[b-1])/2\n",
    "\t\telse:\n",
    "\t\t    return merge[b-1]\n"
   ]
  },
  {
   "cell_type": "markdown",
   "id": "128147f8",
   "metadata": {},
   "source": [
    "##### Problem 5\n",
    "\n",
    "Longest Palindromic Substring\n",
    "\n",
    "Given a string s, return the longest palindromic substring in s.\n",
    "\n",
    "Example 1:  \n",
    "Input: s = \"babad\"  \n",
    "Output: \"bab\"  \n",
    "Explanation: \"aba\" is also a valid answer.\n",
    "\n",
    "Example 2:  \n",
    "Input: s = \"cbbd\"  \n",
    "Output: \"bb\"  "
   ]
  },
  {
   "cell_type": "code",
   "execution_count": null,
   "id": "22599509",
   "metadata": {},
   "outputs": [],
   "source": [
    "class Solution():\n",
    "    def longestPalindrome(self, s):\n",
    "        self.maxlen = 0\n",
    "        self.start = 0\n",
    "        \n",
    "        for i in range(len(s)):\n",
    "            self.expandFromCenter(s,i,i)\n",
    "            self.expandFromCenter(s,i,i+1)\n",
    "        return s[self.start:self.start+self.maxlen]\n",
    "        \n",
    "\n",
    "    def expandFromCenter(self,s,l,r):\n",
    "        while l > -1 and r < len(s) and s[l] ==s[r]:\n",
    "            l -= 1\n",
    "            r += 1\n",
    "        \n",
    "        if self.maxlen < r-l-1:\n",
    "            self.maxlen = r-l-1\n",
    "            self.start = l + 1"
   ]
  },
  {
   "cell_type": "code",
   "execution_count": null,
   "id": "de9480c0",
   "metadata": {},
   "outputs": [
    {
     "name": "stdout",
     "output_type": "stream",
     "text": [
      "cabac\n"
     ]
    }
   ],
   "source": [
    "if __name__ == '__main__':\n",
    "    # begin\n",
    "    s = Solution()\n",
    "    print(s.longestPalindrome(\"dcabacef\"))"
   ]
  },
  {
   "cell_type": "markdown",
   "id": "ce60d094",
   "metadata": {},
   "source": [
    "### Problem 7\n",
    "https://leetcode.com/problems/reverse-integer/\n",
    "\n",
    "Given a signed 32-bit integer x, return x with its digits reversed. If reversing x causes the value to go outside the signed 32-bit integer range [-231, 231 - 1], then return 0.\n",
    "\n",
    "Assume the environment does not allow you to store 64-bit integers (signed or unsigned).\n",
    "\n",
    " \n",
    "\n",
    "Example 1:  \n",
    "Input: x = 123  \n",
    "Output: 321\n",
    "\n",
    "\n",
    "Example 2:  \n",
    "Input: x = -123  \n",
    "Output: -321   \n",
    "\n",
    "\n",
    "Example 3:  \n",
    "Input: x = 120  \n",
    "Output: 21  \n",
    "\n",
    "Example 4:  \n",
    "Input: x = 0  \n",
    "Output: 0  \n",
    " \n",
    "\n",
    "Constraints:  \n",
    "-231 <= x <= 231 - 1"
   ]
  },
  {
   "cell_type": "markdown",
   "id": "3d684c16",
   "metadata": {},
   "source": [
    "Algorithm\n",
    "\n",
    "Reversing an integer can be done similarly to reversing a string.\n",
    "\n",
    "We want to repeatedly \"pop\" the last digit off of x\n",
    "x and \"push\" it to the back of the rev. In the end, rev will be the reverse of the x\n",
    "\n",
    "\n",
    "To \"pop\" and \"push\" digits without the help of some auxiliary stack/array, we can use math.\n",
    "\n",
    "-- pop operation:  \n",
    "pop = x % 10;  \n",
    "x /= 10;  \n",
    "\n",
    "-- push operation:  \n",
    "temp = rev * 10 + pop;  \n",
    "rev = temp;  \n",
    "\n",
    "However, this approach is dangerous, because the statement temp=rev⋅10+pop can cause overflow."
   ]
  },
  {
   "cell_type": "code",
   "execution_count": null,
   "id": "8bf3fa10",
   "metadata": {},
   "outputs": [],
   "source": [
    "import sys\n",
    "class Solution(object):\n",
    "    def reverse(self, x):\n",
    "        \"\"\"\n",
    "        :type x: int\n",
    "        :rtype: int\n",
    "        \"\"\"\n",
    "        MAX =  2147483647\n",
    "        MIN = -2147483648\n",
    "        reverse = 0\n",
    "        y = abs(x)\n",
    "        while y > 0:\n",
    "\t        rem = y % 10\n",
    "\t        reverse = (reverse * 10 + rem)\n",
    "\t        y = y // 10\n",
    "\n",
    "        if x < 0:       \n",
    "            reverse = reverse * -1\n",
    "\n",
    "        if reverse >= MIN and reverse <= MAX:\n",
    "\t        return reverse \n",
    "        else:\n",
    "\t        return 0\n",
    "    \n",
    "#https://dxmahata.gitbooks.io/leetcode-python-solutions/content/reverse_integer.html"
   ]
  },
  {
   "cell_type": "code",
   "execution_count": null,
   "id": "3488777b",
   "metadata": {},
   "outputs": [
    {
     "data": {
      "text/plain": [
       "0"
      ]
     },
     "execution_count": 38,
     "metadata": {},
     "output_type": "execute_result"
    }
   ],
   "source": [
    "x = -32\n",
    "y = Solution()\n",
    "y.reverse(x)"
   ]
  },
  {
   "cell_type": "markdown",
   "id": "3c51731a",
   "metadata": {},
   "source": [
    "##### Problem 6 Zigzag Conversion\n",
    "\n",
    "https://leetcode.com/problems/zigzag-conversion/"
   ]
  },
  {
   "cell_type": "code",
   "execution_count": null,
   "id": "e8292e57",
   "metadata": {},
   "outputs": [],
   "source": [
    "class Solution:\n",
    "    def convert(self, s, numRows):\n",
    "        \"\"\"\n",
    "        :type s: str\n",
    "        :type numRows: int\n",
    "        :rtype: str\n",
    "        \"\"\"\n",
    "        lin = 0\n",
    "        pl = 1\n",
    "        outp = [\"\"] * numRows\n",
    "        for i in range(len(s)):\n",
    "            outp[lin] += s[i]\n",
    "            if numRows > 1:\n",
    "                lin += pl\n",
    "                if lin == 0 or lin == numRows -1:\n",
    "                    pl *= -1\n",
    "        outputStr = \"\"\n",
    "        for j in range(numRows):\n",
    "            outputStr += outp[j]\n",
    "        return outputStr"
   ]
  },
  {
   "cell_type": "markdown",
   "id": "c50b2aee",
   "metadata": {},
   "source": [
    "##### "
   ]
  },
  {
   "cell_type": "markdown",
   "id": "8789e6b9",
   "metadata": {},
   "source": [
    "##### Problem 9 - Palindrome Number\n",
    "https://leetcode.com/problems/palindrome-number/\n",
    "\n",
    "Given an integer x, return true if x is palindrome integer.\n",
    "\n",
    "An integer is a palindrome when it reads the same backward as forward. For example, 121 is palindrome while 123 is not.\n",
    "\n",
    " \n",
    "\n",
    "Example 1:\n",
    "\n",
    "Input: x = 121\n",
    "Output: true\n",
    "Example 2:\n",
    "\n",
    "Input: x = -121\n",
    "Output: false\n",
    "Explanation: From left to right, it reads -121. From right to left, it becomes 121-. Therefore it is not a palindrome.\n",
    "Example 3:\n",
    "\n",
    "Input: x = 10\n",
    "Output: false\n",
    "Explanation: Reads 01 from right to left. Therefore it is not a palindrome.\n",
    "Example 4:\n",
    "\n",
    "Input: x = -101\n",
    "Output: false\n",
    " \n",
    "\n",
    "Constraints:\n",
    "\n",
    "-231 <= x <= 231 - 1"
   ]
  },
  {
   "cell_type": "markdown",
   "id": "1df7b048",
   "metadata": {},
   "source": [
    "Some hints: Could negative integers be palindromes? (ie, -1)\n",
    "\n",
    "If you are thinking of converting the integer to string, note the restriction of using extra space.\n",
    "\n",
    "You could also try reversing an integer. However, if you have solved the problem \"Reverse Integer\", you know that the reversed integer might overflow. How would you handle such case?\n",
    "\n",
    "There is a more generic way of solving this problem."
   ]
  },
  {
   "cell_type": "code",
   "execution_count": null,
   "id": "1c13bdea",
   "metadata": {},
   "outputs": [],
   "source": [
    "#https://dxmahata.gitbooks.io/leetcode-python-solutions/content/2_sum_iii.html\n",
    "\n",
    "class Solution(object):\n",
    "    def isPalindrome(self, x):\n",
    "        \"\"\"\n",
    "        :type x: int\n",
    "        :rtype: bool\n",
    "        \"\"\"\n",
    "        if x < 0:\n",
    "            return False\n",
    "\n",
    "        rev = 0\n",
    "        copy = x\n",
    "        while copy != 0:\n",
    "            rev = rev*10 + copy%10\n",
    "            copy = copy//10\n",
    "        if rev == x:\n",
    "            return True\n",
    "        else:\n",
    "            return False"
   ]
  },
  {
   "cell_type": "markdown",
   "id": "839641a4",
   "metadata": {},
   "source": [
    "Palindrome check for strings"
   ]
  },
  {
   "cell_type": "code",
   "execution_count": null,
   "id": "13bc1e17",
   "metadata": {},
   "outputs": [],
   "source": [
    "class Solution(object):\n",
    "    def isPalindrome(self, x: int) -> bool:\n",
    "        x = str(x)\n",
    "        if (x == x[::-1]):\n",
    "            return True\n",
    "        return False"
   ]
  },
  {
   "cell_type": "code",
   "execution_count": null,
   "id": "f29d9188",
   "metadata": {},
   "outputs": [
    {
     "data": {
      "text/plain": [
       "'321'"
      ]
     },
     "execution_count": 48,
     "metadata": {},
     "output_type": "execute_result"
    }
   ],
   "source": [
    "x = str(123)\n",
    "x[::-1]"
   ]
  },
  {
   "cell_type": "markdown",
   "id": "8ac98ea8",
   "metadata": {},
   "source": [
    "##### Problem 12 : Integer to Roman\n",
    "Roman numerals are represented by seven different symbols: I, V, X, L, C, D and M.\n",
    "\n",
    "Symbol       Value\n",
    "I             1\n",
    "V             5\n",
    "X             10\n",
    "L             50\n",
    "C             100\n",
    "D             500\n",
    "M             1000\n",
    "For example, 2 is written as II in Roman numeral, just two one's added together. 12 is written as XII, which is simply X + II. The number 27 is written as XXVII, which is XX + V + II.\n",
    "\n",
    "Roman numerals are usually written largest to smallest from left to right. However, the numeral for four is not IIII. Instead, the number four is written as IV. Because the one is before the five we subtract it making four. The same principle applies to the number nine, which is written as IX. There are six instances where subtraction is used:\n",
    "\n",
    "I can be placed before V (5) and X (10) to make 4 and 9. \n",
    "X can be placed before L (50) and C (100) to make 40 and 90. \n",
    "C can be placed before D (500) and M (1000) to make 400 and 900.\n",
    "Given an integer, convert it to a roman numeral."
   ]
  },
  {
   "cell_type": "code",
   "execution_count": null,
   "id": "3cbc8120",
   "metadata": {},
   "outputs": [],
   "source": [
    "class Solution:\n",
    "    def intToRoman(self, num: int) -> str:\n",
    "        numeral = ''\n",
    "        \n",
    "        nums = [1000, 900, 500, 400, 100, 90, 50, 40, 10, 9, 5, 4, 1]\n",
    "        roman = [\"M\", \"CM\", \"D\", \"CD\", \"C\", \"XC\", \"L\", \"XL\", \"X\", \"IX\", \"V\", \"IV\", \"I\"]\n",
    "        \n",
    "        for i,n in enumerate(nums):\n",
    "            while num >= n:\n",
    "                numeral += roman[i]\n",
    "                num -= n\n",
    "            \n",
    "                \n",
    "        return numeral"
   ]
  },
  {
   "cell_type": "markdown",
   "id": "151d5e0a",
   "metadata": {},
   "source": [
    "##### Problem 13 - Roman to Integer\n",
    "https://leetcode.com/problems/roman-to-integer/\n",
    "\n",
    "Roman numerals are represented by seven different symbols: I, V, X, L, C, D and M.\n",
    "\n",
    "Symbol       Value\n",
    "I             1\n",
    "V             5\n",
    "X             10\n",
    "L             50\n",
    "C             100\n",
    "D             500\n",
    "M             1000\n",
    "For example, 2 is written as II in Roman numeral, just two one's added together. 12 is written as XII, which is simply X + II. The number 27 is written as XXVII, which is XX + V + II.\n",
    "\n",
    "Roman numerals are usually written largest to smallest from left to right. However, the numeral for four is not IIII. Instead, the number four is written as IV. Because the one is before the five we subtract it making four. The same principle applies to the number nine, which is written as IX. There are six instances where subtraction is used:\n",
    "\n",
    "I can be placed before V (5) and X (10) to make 4 and 9. \n",
    "X can be placed before L (50) and C (100) to make 40 and 90. \n",
    "C can be placed before D (500) and M (1000) to make 400 and 900.\n",
    "Given a roman numeral, convert it to an integer.\n",
    "\n",
    " \n",
    "\n",
    "Example 1:\n",
    "\n",
    "Input: s = \"III\"\n",
    "Output: 3\n",
    "Example 2:\n",
    "\n",
    "Input: s = \"IV\"\n",
    "Output: 4\n",
    "Example 3:\n",
    "\n",
    "Input: s = \"IX\"\n",
    "Output: 9\n",
    "Example 4:\n",
    "\n",
    "Input: s = \"LVIII\"\n",
    "Output: 58\n",
    "Explanation: L = 50, V= 5, III = 3.\n"
   ]
  },
  {
   "cell_type": "code",
   "execution_count": null,
   "id": "59b4a6b7",
   "metadata": {},
   "outputs": [],
   "source": [
    "def romanToInt(self, s):\n",
    "        roman = {'I': 1, 'V': 5, 'X': 10,\n",
    "                 'L': 50, 'C': 100, 'D': 500, 'M': 1000}\n",
    "        prev, total = 0, 0\n",
    "        for c in s:\n",
    "            curr = roman[c]\n",
    "            total += curr\n",
    "            # need to subtract\n",
    "            if curr > prev:\n",
    "                total -= 2 * prev\n",
    "            prev = curr\n",
    "        return total"
   ]
  },
  {
   "cell_type": "markdown",
   "id": "3e1c1d9b",
   "metadata": {},
   "source": [
    "##### Problem 14 - Longest Common Prefix\n",
    "https://leetcode.com/problems/longest-common-prefix/\n",
    "\n",
    "Write a function to find the longest common prefix string amongst an array of strings.\n",
    "\n",
    "If there is no common prefix, return an empty string \"\".\n",
    "\n",
    " \n",
    "\n",
    "Example 1:\n",
    "\n",
    "Input: strs = [\"flower\",\"flow\",\"flight\"]\n",
    "Output: \"fl\"\n",
    "Example 2:\n",
    "\n",
    "Input: strs = [\"dog\",\"racecar\",\"car\"]\n",
    "Output: \"\"\n",
    "Explanation: There is no common prefix among the input strings.\n",
    " \n",
    "\n",
    "Constraints:\n",
    "\n",
    "1 <= strs.length <= 200\n",
    "0 <= strs[i].length <= 200\n",
    "strs[i] consists of only lower-case English letters."
   ]
  },
  {
   "cell_type": "code",
   "execution_count": null,
   "id": "de1b44d6",
   "metadata": {},
   "outputs": [],
   "source": [
    "# https://medium.com/@d_dchris/10-methods-to-solve-the-longest-common-prefix-problem-using-python-leetcode-14-a87bb3eb0f3a\n",
    "def longestCommonPrefix(self, strs):\n",
    "    if not strs:\n",
    "        return \"\"\n",
    "    \n",
    "    shortest_str = min(strs,key=len)\n",
    "    for i, char in enumerate(shortest_str):\n",
    "        for other in strs:\n",
    "            if other[i] != char:\n",
    "                  return shortest_str[:i]\n",
    "    return shortest_str"
   ]
  },
  {
   "cell_type": "code",
   "execution_count": null,
   "id": "c03591d7",
   "metadata": {},
   "outputs": [],
   "source": [
    "# Method 2\n",
    "def longestCommonPrefix(self, strs):\n",
    "    if not strs:\n",
    "        return \"\"\n",
    "    for i, letter_group in enumerate(zip(*strs)):\n",
    "        # [\"flower\",\"flow\",\"flight\"]\n",
    "        # print(i,letter_group,set(letter_group))\n",
    "        # 0 ('f', 'f', 'f') {'f'}\n",
    "        if len(set(letter_group)) > 1:\n",
    "            return strs[0][:i]\n",
    "    else:\n",
    "        return min(strs)"
   ]
  },
  {
   "cell_type": "code",
   "execution_count": null,
   "id": "ddd80459",
   "metadata": {},
   "outputs": [
    {
     "name": "stdout",
     "output_type": "stream",
     "text": [
      "0 ('f', 'f', 'f') {'f'}\n",
      "1 ('l', 'l', 'l') {'l'}\n",
      "2 ('o', 'o', 'i') {'o', 'i'}\n",
      "3 ('w', 'w', 'g') {'g', 'w'}\n"
     ]
    }
   ],
   "source": [
    "strs = [\"flower\",\"flow\",\"flight\"]\n",
    "for i, letter_group in enumerate(zip(*strs)):\n",
    "    print(i,letter_group,set(letter_group))"
   ]
  },
  {
   "cell_type": "code",
   "execution_count": null,
   "id": "4a99f67d",
   "metadata": {},
   "outputs": [],
   "source": [
    "for i in enumerate(zip(*strs)):\n",
    "    print(i,letter_group,set(letter_group))"
   ]
  },
  {
   "cell_type": "code",
   "execution_count": null,
   "id": "5d2030dc",
   "metadata": {},
   "outputs": [
    {
     "data": {
      "text/plain": [
       "'fl'"
      ]
     },
     "execution_count": 53,
     "metadata": {},
     "output_type": "execute_result"
    }
   ],
   "source": [
    "strs = [\"flower\",\"flow\",\"flight\"]\n",
    "longestCommonPrefix(0,strs)"
   ]
  },
  {
   "cell_type": "markdown",
   "id": "5598a154",
   "metadata": {},
   "source": [
    "##### Problem 20 - Valid Parenthesis\n",
    "https://leetcode.com/problems/valid-parentheses/\n",
    "\n",
    "Given a string s containing just the characters '(', ')', '{', '}', '[' and ']', determine if the input string is valid.\n",
    "\n",
    "An input string is valid if:\n",
    "\n",
    "Open brackets must be closed by the same type of brackets.\n",
    "Open brackets must be closed in the correct order.\n",
    " \n",
    "\n",
    "Example 1:\n",
    "\n",
    "Input: s = \"()\"\n",
    "Output: true\n",
    "Example 2:\n",
    "\n",
    "Input: s = \"()[]{}\"\n",
    "Output: true\n",
    "Example 3:\n",
    "\n",
    "Input: s = \"(]\"\n",
    "Output: false\n",
    "Example 4:\n",
    "\n",
    "Input: s = \"([)]\"\n",
    "Output: false\n",
    "Example 5:\n",
    "\n",
    "Input: s = \"{[]}\"\n",
    "Output: true\n",
    " \n",
    "\n",
    "Constraints:\n",
    "\n",
    "1 <= s.length <= 104\n",
    "s consists of parentheses only '()[]{}'."
   ]
  },
  {
   "cell_type": "markdown",
   "id": "d3a522e2",
   "metadata": {},
   "source": [
    "One approach to check balanced parentheses is to use stack. Each time, when an open parentheses is encountered push it in the stack, and when closed parenthesis is encountered, match it with the top of stack and pop it. If stack is empty at the end, return Balanced otherwise, Unbalanced."
   ]
  },
  {
   "cell_type": "code",
   "execution_count": null,
   "id": "cb30ad1e",
   "metadata": {},
   "outputs": [],
   "source": [
    "#https://www.geeksforgeeks.org/check-for-balanced-parentheses-in-python/\n",
    "\n",
    "- Using stacks\n",
    "- Using queue\n",
    "- Using elimination"
   ]
  },
  {
   "cell_type": "code",
   "execution_count": null,
   "id": "88c55752",
   "metadata": {},
   "outputs": [],
   "source": [
    "# Python3 code to Check for \n",
    "# balanced parentheses in an expression\n",
    "class Solution:\n",
    "    def isValid(self, s: str) -> bool:\n",
    "        dic = {'}':'{',')':'(',']':'['}\n",
    "        stack = []\n",
    "        \n",
    "        for c in s:\n",
    "            if c not in dic:\n",
    "                stack.append(c)\n",
    "                print(stack)\n",
    "            else:\n",
    "                if not stack:\n",
    "                    return False\n",
    "                if dic.get(c) == stack[-1]:\n",
    "                    stack.pop()\n",
    "                else:\n",
    "                    return False\n",
    "        \n",
    "        if not stack:\n",
    "            return True\n",
    "        else:\n",
    "            return False"
   ]
  },
  {
   "cell_type": "code",
   "execution_count": null,
   "id": "e9c056b7",
   "metadata": {},
   "outputs": [
    {
     "name": "stdout",
     "output_type": "stream",
     "text": [
      "{[]{()}} - Balanced\n",
      "[{}{})(] - Unbalanced\n",
      "((() - Unbalanced\n"
     ]
    }
   ],
   "source": [
    "# Driver code\n",
    "string = \"{[]{()}}\"\n",
    "print(string,\"-\", check(string))\n",
    "  \n",
    "string = \"[{}{})(]\"\n",
    "print(string,\"-\", check(string))\n",
    "  \n",
    "string = \"((()\"\n",
    "print(string,\"-\",check(string))"
   ]
  },
  {
   "cell_type": "markdown",
   "id": "e3e45b79",
   "metadata": {},
   "source": [
    "##### Problem 21 - Merge 2 sorted lists\n",
    "https://leetcode.com/problems/merge-two-sorted-lists/\n",
    "    \n",
    "Merge two sorted linked lists and return it as a sorted list. The list should be made by splicing together the nodes of the first two lists.\n",
    "\n",
    " \n",
    "\n",
    "Example 1:\n",
    "\n",
    "\n",
    "Input: l1 = [1,2,4], l2 = [1,3,4]\n",
    "Output: [1,1,2,3,4,4]\n",
    "Example 2:\n",
    "\n",
    "Input: l1 = [], l2 = []\n",
    "Output: []\n",
    "Example 3:\n",
    "\n",
    "Input: l1 = [], l2 = [0]\n",
    "Output: [0]\n"
   ]
  },
  {
   "cell_type": "code",
   "execution_count": null,
   "id": "7112652b",
   "metadata": {},
   "outputs": [],
   "source": [
    "#https://www.geeksforgeeks.org/merge-two-sorted-linked-lists/\n",
    "\n",
    "class LinkedList:\n",
    "    def __init__(self):\n",
    "        self.head = None\n",
    " \n",
    "    # Method to display the list\n",
    "    def printList(self):\n",
    "        temp = self.head\n",
    "        while temp:\n",
    "            print(temp.data, end=\" \")\n",
    "            temp = temp.next\n",
    " \n",
    "    # Method to add element to list\n",
    "    def addToList(self, newData):\n",
    "        newNode = Node(newData)\n",
    "        if self.head is None:\n",
    "            self.head = newNode\n",
    "            return\n",
    " \n",
    "        last = self.head\n",
    "        while last.next:\n",
    "            last = last.next\n",
    " \n",
    "        last.next = newNode\n",
    " \n",
    " \n",
    "# Function to merge the lists\n",
    "# Takes two lists which are sorted\n",
    "# joins them to get a single sorted list\n",
    "def mergeLists(headA, headB):\n",
    " \n",
    "    # A dummy node to store the result\n",
    "    dummyNode = Node(0)\n",
    " \n",
    "    # Tail stores the last node\n",
    "    tail = dummyNode\n",
    "    while True:\n",
    " \n",
    "        # If any of the list gets completely empty\n",
    "        # directly join all the elements of the other list\n",
    "        if headA is None:\n",
    "            tail.next = headB\n",
    "            break\n",
    "        if headB is None:\n",
    "            tail.next = headA\n",
    "            break\n",
    " \n",
    "        # Compare the data of the lists and whichever is smaller is\n",
    "        # appended to the last of the merged list and the head is changed\n",
    "        if headA.data <= headB.data:\n",
    "            tail.next = headA\n",
    "            headA = headA.next\n",
    "        else:\n",
    "            tail.next = headB\n",
    "            headB = headB.next\n",
    " \n",
    "        # Advance the tail\n",
    "        tail = tail.next\n",
    " \n",
    "    # Returns the head of the merged list\n",
    "    return dummyNode.next"
   ]
  },
  {
   "cell_type": "code",
   "execution_count": null,
   "id": "1de93e7d",
   "metadata": {},
   "outputs": [
    {
     "name": "stdout",
     "output_type": "stream",
     "text": [
      "Merged Linked List is:\n",
      "2 3 5 10 15 20 "
     ]
    },
    {
     "data": {
      "text/plain": [
       "' This code is contributed\\nby Debidutta Rath '"
      ]
     },
     "execution_count": 58,
     "metadata": {},
     "output_type": "execute_result"
    }
   ],
   "source": [
    "# Create 2 lists\n",
    "listA = LinkedList()\n",
    "listB = LinkedList()\n",
    " \n",
    "# Add elements to the list in sorted order\n",
    "listA.addToList(5)\n",
    "listA.addToList(10)\n",
    "listA.addToList(15)\n",
    " \n",
    "listB.addToList(2)\n",
    "listB.addToList(3)\n",
    "listB.addToList(20)\n",
    " \n",
    "# Call the merge function\n",
    "listA.head = mergeLists(listA.head, listB.head)\n",
    " \n",
    "# Display merged list\n",
    "print(\"Merged Linked List is:\")\n",
    "listA.printList()"
   ]
  },
  {
   "cell_type": "code",
   "execution_count": null,
   "id": "5da92e31",
   "metadata": {},
   "outputs": [],
   "source": [
    "# Definition for singly-linked list.\n",
    "# class ListNode(object):\n",
    "#     def __init__(self, x):\n",
    "#         self.val = x\n",
    "#         self.next = None\n",
    "\n",
    "class Solution(object):\n",
    "    def mergeTwoLists(self, l1, l2):\n",
    "        \"\"\"\n",
    "        :type l1: ListNode\n",
    "        :type l2: ListNode\n",
    "        :rtype: ListNode\n",
    "        \"\"\"\n",
    "        if l1 == None and l2 == None:\n",
    "            return None\n",
    "        elif l1 != None and l2 == None:\n",
    "            return l1\n",
    "        elif l2 != None and l1 == None:\n",
    "            return l2\n",
    "        else:\n",
    "            dummy = ListNode(0)\n",
    "            p = dummy\n",
    "\n",
    "            while l1 != None and l2 != None:\n",
    "                if l1.val < l2.val:\n",
    "                    p.next = l1\n",
    "                    l1 = l1.next\n",
    "                else:\n",
    "                    p.next = l2\n",
    "                    l2 = l2.next\n",
    "                p = p.next\n",
    "\n",
    "            if l1 != None:\n",
    "                p.next = l1\n",
    "\n",
    "            if l2 != None:\n",
    "                p.next = l2\n",
    "\n",
    "            return dummy.next"
   ]
  },
  {
   "cell_type": "markdown",
   "id": "c0b28133",
   "metadata": {},
   "source": [
    "##### Problem 26 - Remove duplicates from sorted array \n",
    "https://leetcode.com/problems/remove-duplicates-from-sorted-array/\n",
    "\n",
    "Given an integer array nums sorted in non-decreasing order, remove the duplicates in-place such that each unique element appears only once. The relative order of the elements should be kept the same.\n",
    "\n",
    "Since it is impossible to change the length of the array in some languages, you must instead have the result be placed in the first part of the array nums. More formally, if there are k elements after removing the duplicates, then the first k elements of nums should hold the final result. It does not matter what you leave beyond the first k elements.\n",
    "\n",
    "Return k after placing the final result in the first k slots of nums.\n",
    "\n",
    "Do not allocate extra space for another array. You must do this by modifying the input array in-place with O(1) extra memory.\n",
    "\n",
    "Custom Judge:\n",
    "\n",
    "The judge will test your solution with the following code:\n",
    "\n",
    "int[] nums = [...]; // Input array\n",
    "int[] expectedNums = [...]; // The expected answer with correct length\n",
    "\n",
    "int k = removeDuplicates(nums); // Calls your implementation\n",
    "\n",
    "assert k == expectedNums.length;\n",
    "for (int i = 0; i < k; i++) {\n",
    "    assert nums[i] == expectedNums[i];\n",
    "}\n",
    "If all assertions pass, then your solution will be accepted.\n",
    "\n",
    " \n",
    "\n",
    "Example 1:\n",
    "\n",
    "Input: nums = [1,1,2]\n",
    "Output: 2, nums = [1,2,_]\n",
    "Explanation: Your function should return k = 2, with the first two elements of nums being 1 and 2 respectively.\n",
    "It does not matter what you leave beyond the returned k (hence they are underscores).\n",
    "Example 2:\n",
    "\n",
    "Input: nums = [0,0,1,1,1,2,2,3,3,4]\n",
    "Output: 5, nums = [0,1,2,3,4,_,_,_,_,_]\n",
    "Explanation: Your function should return k = 5, with the first five elements of nums being 0, 1, 2, 3, and 4 respectively.\n",
    "It does not matter what you leave beyond the returned k (hence they are underscores)."
   ]
  },
  {
   "cell_type": "code",
   "execution_count": null,
   "id": "0b566a9e",
   "metadata": {},
   "outputs": [],
   "source": [
    "class Solution(object):\n",
    "    def removeDuplicates(self, nums):\n",
    "        if len(nums) == 0:\n",
    "            return 0\n",
    "        left = 0\n",
    "        for i in range(1, len(nums)):\n",
    "            if nums[left] == nums[i]:\n",
    "                continue\n",
    "            else:\n",
    "                left += 1\n",
    "                nums[left] = nums[i]\n",
    "        return left + 1"
   ]
  },
  {
   "cell_type": "code",
   "execution_count": null,
   "id": "ff3d7378",
   "metadata": {},
   "outputs": [
    {
     "data": {
      "text/plain": [
       "3"
      ]
     },
     "execution_count": 62,
     "metadata": {},
     "output_type": "execute_result"
    }
   ],
   "source": [
    "nums = [1,1,2,2,3,3,3,3]\n",
    "y = Solution()\n",
    "y.removeDuplicates(nums)"
   ]
  },
  {
   "cell_type": "code",
   "execution_count": null,
   "id": "8705751b",
   "metadata": {},
   "outputs": [
    {
     "data": {
      "text/plain": [
       "3"
      ]
     },
     "execution_count": 66,
     "metadata": {},
     "output_type": "execute_result"
    }
   ],
   "source": [
    "len(set(nums))"
   ]
  },
  {
   "cell_type": "markdown",
   "id": "b9e2e3f5",
   "metadata": {},
   "source": [
    "##### Probolem 27 - Remove element \n",
    "https://leetcode.com/problems/remove-element/\n",
    "    \n",
    "Given an integer array nums and an integer val, remove all occurrences of val in nums in-place. The relative order of the elements may be changed.\n",
    "\n",
    "Since it is impossible to change the length of the array in some languages, you must instead have the result be placed in the first part of the array nums. More formally, if there are k elements after removing the duplicates, then the first k elements of nums should hold the final result. It does not matter what you leave beyond the first k elements.\n",
    "\n",
    "Return k after placing the final result in the first k slots of nums.\n",
    "\n",
    "Do not allocate extra space for another array. You must do this by modifying the input array in-place with O(1) extra memory.\n",
    "\n",
    "Example 1:\n",
    "\n",
    "Input: nums = [3,2,2,3], val = 3\n",
    "Output: 2, nums = [2,2,_,_]\n",
    "Explanation: Your function should return k = 2, with the first two elements of nums being 2.\n",
    "It does not matter what you leave beyond the returned k (hence they are underscores).\n",
    "Example 2:\n",
    "\n",
    "Input: nums = [0,1,2,2,3,0,4,2], val = 2\n",
    "Output: 5, nums = [0,1,4,0,3,_,_,_]\n",
    "Explanation: Your function should return k = 5, with the first five elements of nums containing 0, 0, 1, 3, and 4.\n",
    "Note that the five elements can be returned in any order.\n",
    "It does not matter what you leave beyond the returned k (hence they are underscores).\n"
   ]
  },
  {
   "cell_type": "code",
   "execution_count": null,
   "id": "bbd987d8",
   "metadata": {},
   "outputs": [],
   "source": [
    "class Solution(object):\n",
    "    def removeElement(self, nums, val):\n",
    "        \"\"\"\n",
    "        :type nums: List[int]\n",
    "        :type val: int\n",
    "        :rtype: int\n",
    "        \"\"\"\n",
    "        if val == []:\n",
    "            return 0\n",
    "        else:\n",
    "            i = 0\n",
    "            j = 0\n",
    "            while j < len(nums):\n",
    "                if nums[j] == val:\n",
    "                    j += 1\n",
    "                else:\n",
    "                    nums[i] = nums[j]\n",
    "                    i += 1\n",
    "                    j += 1\n",
    "\n",
    "            return len(nums[0:i])"
   ]
  },
  {
   "cell_type": "code",
   "execution_count": null,
   "id": "a21173c6",
   "metadata": {},
   "outputs": [
    {
     "data": {
      "text/plain": [
       "2"
      ]
     },
     "execution_count": 68,
     "metadata": {},
     "output_type": "execute_result"
    }
   ],
   "source": [
    "val = 3\n",
    "nums = [3,2,2,3]\n",
    "length = len(nums)\n",
    "\n",
    "while val in nums:\n",
    "    nums.remove(val)\n",
    "len(nums)"
   ]
  },
  {
   "cell_type": "code",
   "execution_count": null,
   "id": "c461c246",
   "metadata": {},
   "outputs": [
    {
     "data": {
      "text/plain": [
       "[2, 2]"
      ]
     },
     "execution_count": 69,
     "metadata": {},
     "output_type": "execute_result"
    }
   ],
   "source": [
    "nums"
   ]
  },
  {
   "cell_type": "markdown",
   "id": "6b5bc917",
   "metadata": {},
   "source": [
    "##### Problem 29: Divide 2 integers\n",
    "Given two integers dividend and divisor, divide two integers without using multiplication, division, and mod operator.\n",
    "\n",
    "The integer division should truncate toward zero, which means losing its fractional part. For example, 8.345 would be truncated to 8, and -2.7335 would be truncated to -2.\n",
    "\n",
    "Return the quotient after dividing dividend by divisor.\n",
    "\n",
    "Note: Assume we are dealing with an environment that could only store integers within the 32-bit signed integer range: [−231, 231 − 1]. For this problem, if the quotient is strictly greater than 231 - 1, then return 231 - 1, and if the quotient is strictly less than -231, then return -231.\n",
    "\n",
    "\n",
    "Example 1:\n",
    "\n",
    "Input: dividend = 10, divisor = 3\n",
    "Output: 3\n",
    "Explanation: 10/3 = 3.33333.. which is truncated to 3.\n",
    "Example 2:\n",
    "\n",
    "Input: dividend = 7, divisor = -3\n",
    "Output: -2\n",
    "Explanation: 7/-3 = -2.33333.. which is truncated to -2."
   ]
  },
  {
   "cell_type": "code",
   "execution_count": null,
   "id": "ad139a76",
   "metadata": {},
   "outputs": [],
   "source": [
    "class Solution:\n",
    "    def divide(self, dividend: int, divisor: int) -> int:\n",
    "        \n",
    "        quotient = 0\n",
    "        rem = 9999\n",
    "        while rem > abs(divisor):\n",
    "            quotient += 1\n",
    "            rem = abs(dividend) - divisor\n",
    "\n",
    "\n"
   ]
  },
  {
   "cell_type": "markdown",
   "id": "ee44ce9f",
   "metadata": {},
   "source": [
    "##### Problem 125 - Valid Palindrome\n",
    "https://leetcode.com/problems/valid-palindrome/\n",
    "    \n",
    "Given a string s, determine if it is a palindrome, considering only alphanumeric characters and ignoring cases.\n",
    "\n",
    " \n",
    "\n",
    "Example 1:\n",
    "\n",
    "Input: s = \"A man, a plan, a canal: Panama\"\n",
    "Output: true\n",
    "Explanation: \"amanaplanacanalpanama\" is a palindrome.\n",
    "Example 2:\n",
    "\n",
    "Input: s = \"race a car\"\n",
    "Output: false\n",
    "Explanation: \"raceacar\" is not a palindrome.\n",
    " \n",
    "\n",
    "Constraints:\n",
    "\n",
    "1 <= s.length <= 2 * 105\n",
    "s consists only of printable ASCII characters."
   ]
  },
  {
   "cell_type": "code",
   "execution_count": null,
   "id": "1b4411f7",
   "metadata": {},
   "outputs": [],
   "source": [
    "# Solution 1\n",
    "class Solution(object):\n",
    "    def isPalindrome(self, s):\n",
    "        \"\"\"\n",
    "        :type s: str\n",
    "        :rtype: bool\n",
    "        \"\"\"\n",
    "        alnum_s = [t.lower() for t in s if t.isalnum()]\n",
    "        ls = len(alnum_s)\n",
    "        if ls <= 1:\n",
    "            return True\n",
    "        mid = ls / 2\n",
    "        for i in range(mid):\n",
    "            if alnum_s[i] != alnum_s[ls - 1 - i]:\n",
    "                return False\n",
    "        return True\n",
    "    \n",
    "    \n",
    "# Solution 2\n",
    "import re\n",
    "class Solution:\n",
    "    # @param {string} s\n",
    "    # @return {boolean}\n",
    "    def isPalindrome(self, s):\n",
    "        if len(s) == 0:\n",
    "            return True\n",
    "        else:\n",
    "            start = 0\n",
    "            s = s.lower()\n",
    "            newS = re.sub(r\"[^a-zA-Z0-9]\",\"\",s)\n",
    "            end = len(newS)-1\n",
    "            while start < end:\n",
    "                if newS[start] == newS[end]:\n",
    "                    start = start + 1\n",
    "                    end = end - 1\n",
    "                else:\n",
    "                    return False\n",
    "            return True"
   ]
  },
  {
   "cell_type": "code",
   "execution_count": null,
   "id": "72a421a6",
   "metadata": {},
   "outputs": [
    {
     "data": {
      "text/plain": [
       "True"
      ]
     },
     "execution_count": 80,
     "metadata": {},
     "output_type": "execute_result"
    }
   ],
   "source": [
    "s = \"A man, a plan, a canal: Panama\"\n",
    "y = Solution()\n",
    "y.isPalindrome(s)"
   ]
  },
  {
   "cell_type": "markdown",
   "id": "ffc91a72",
   "metadata": {},
   "source": [
    "### Problem 189 - Rotate array by k steps\n",
    "https://leetcode.com/problems/rotate-array/\n",
    "\n",
    "Given an array, rotate the array to the right by k steps, where k is non-negative.\n",
    "\n",
    " \n",
    "\n",
    "Example 1:\n",
    "\n",
    "Input: nums = [1,2,3,4,5,6,7], k = 3\n",
    "Output: [5,6,7,1,2,3,4]\n",
    "\n",
    "\n",
    "Explanation:\n",
    "rotate 1 steps to the right: [7,1,2,3,4,5,6]\n",
    "rotate 2 steps to the right: [6,7,1,2,3,4,5]\n",
    "rotate 3 steps to the right: [5,6,7,1,2,3,4]\n",
    "Example 2:\n",
    "\n",
    "Input: nums = [-1,-100,3,99], k = 2\n",
    "Output: [3,99,-1,-100]\n",
    "\n",
    "\n",
    "Explanation: \n",
    "rotate 1 steps to the right: [99,-1,-100,3]\n",
    "rotate 2 steps to the right: [3,99,-1,-100]"
   ]
  },
  {
   "cell_type": "code",
   "execution_count": null,
   "id": "90f5ec7b",
   "metadata": {},
   "outputs": [],
   "source": [
    "class Solution:\n",
    "    def rotate(self, nums: list[int], k: int) -> None:\n",
    "        \"\"\"\n",
    "        Do not return anything, modify nums in-place instead.\n",
    "        \"\"\"\n",
    "        k = k % len(nums)\n",
    "        i = 0\n",
    "        while i < k:\n",
    "            temp = nums.pop()\n",
    "            nums.insert(0, temp)\n",
    "            i += 1\n",
    "            \n",
    "        return nums\n",
    "# ✔ 34/34 cases passed (144 ms)\n",
    "# ✔ Your runtime beats 8.28 % of python3 submissions\n",
    "# ✔ Your memory usage beats 5.04 % of python3 submissions (13.4 MB)"
   ]
  },
  {
   "cell_type": "code",
   "execution_count": null,
   "id": "ff320002",
   "metadata": {},
   "outputs": [
    {
     "data": {
      "text/plain": [
       "9"
      ]
     },
     "execution_count": 11,
     "metadata": {},
     "output_type": "execute_result"
    }
   ],
   "source": [
    "num = [1,3,4,7,9]\n",
    "x = num.pop()\n",
    "x"
   ]
  },
  {
   "cell_type": "code",
   "execution_count": null,
   "id": "62749ac5",
   "metadata": {},
   "outputs": [
    {
     "data": {
      "text/plain": [
       "[1, 3, 4, 7]"
      ]
     },
     "execution_count": 12,
     "metadata": {},
     "output_type": "execute_result"
    }
   ],
   "source": [
    "num"
   ]
  },
  {
   "cell_type": "code",
   "execution_count": null,
   "id": "b4afc358",
   "metadata": {},
   "outputs": [],
   "source": [
    "num.insert(0, x)"
   ]
  },
  {
   "cell_type": "code",
   "execution_count": null,
   "id": "b67e22f3",
   "metadata": {},
   "outputs": [
    {
     "data": {
      "text/plain": [
       "[9, 1, 3, 4, 7]"
      ]
     },
     "execution_count": 14,
     "metadata": {},
     "output_type": "execute_result"
    }
   ],
   "source": [
    "num"
   ]
  },
  {
   "cell_type": "code",
   "execution_count": null,
   "id": "9aa9c0ad",
   "metadata": {},
   "outputs": [
    {
     "data": {
      "text/plain": [
       "[5, 6, 7, 1, 2, 3, 4]"
      ]
     },
     "execution_count": 74,
     "metadata": {},
     "output_type": "execute_result"
    }
   ],
   "source": [
    "nums = [1,2,3,4,5,6,7]\n",
    "k = 3\n",
    "y = Solution()\n",
    "y.rotate(nums, k)"
   ]
  },
  {
   "cell_type": "markdown",
   "id": "5ecbbbf4",
   "metadata": {},
   "source": [
    "##### 3 Sum Smaller "
   ]
  },
  {
   "cell_type": "markdown",
   "id": "d190ccea",
   "metadata": {},
   "source": [
    "Count triplets with sum smaller than a given value\n",
    "Difficulty Level : Medium\n",
    "Last Updated : 14 Jun, 2021\n",
    "Given an array of distinct integers and a sum value. Find count of triplets with sum smaller than given sum value. The expected Time Complexity is O(n2).\n",
    "Examples: \n",
    " \n",
    "\n",
    "Input : arr[] = {-2, 0, 1, 3}\n",
    "        sum = 2.\n",
    "Output : 2\n",
    "Explanation :  Below are triplets with sum less than 2\n",
    "               (-2, 0, 1) and (-2, 0, 3) \n",
    "\n",
    "Input : arr[] = {5, 1, 3, 4, 7}\n",
    "        sum = 12.\n",
    "Output : 4\n",
    "Explanation :  Below are triplets with sum less than 12\n",
    "               (1, 3, 4), (1, 3, 5), (1, 3, 7) and \n",
    "               (1, 4, 5)"
   ]
  },
  {
   "cell_type": "code",
   "execution_count": null,
   "id": "a062d17e",
   "metadata": {},
   "outputs": [],
   "source": [
    "# A Simple Python 3 program to count triplets with sum smaller than a given value\n",
    "\n",
    "def countTriplets(arr, n, sum):\n",
    " \n",
    "    # Initialize result\n",
    "    ans = 0\n",
    " \n",
    "    # Fix the first element as A[i]\n",
    "    for i in range( 0 ,n-2):\n",
    "     \n",
    "        # Fix the second element as A[j]\n",
    "        for j in range( i+1 ,n-1):\n",
    "     \n",
    "            # Now look for the third number\n",
    "            for k in range( j+1, n):\n",
    "                if (arr[i] + arr[j] + arr[k] < sum):\n",
    "                    ans+=1\n",
    "     \n",
    "    return ans\n",
    " \n",
    "# Driver program\n",
    "arr = [5, 1, 3, 4, 7]\n",
    "n = len(arr)\n",
    "sum = 12\n",
    "print(countTriplets(arr, n, sum))"
   ]
  },
  {
   "cell_type": "markdown",
   "id": "560caa09",
   "metadata": {},
   "source": [
    "1) Sort the input array in increasing order.\n",
    "2) Initialize result as 0.\n",
    "3) Run a loop from i = 0 to n-2.  An iteration of this loop finds all\n",
    "   triplets with arr[i] as first element.\n",
    "     a) Initialize other two elements as corner elements of subarray\n",
    "        arr[i+1..n-1], i.e., j = i+1 and k = n-1\n",
    "     b) Move j and k toward each other until they meet, i.e., while (j<k),\n",
    "            (i) If arr[i] + arr[j] + arr[k] >= sum\n",
    "                then k--\n",
    "            // Else for current i and j, there can (k-j) possible third elements\n",
    "            // that satisfy the constraint.\n",
    "            (ii) Else Do ans += (k - j) followed by j++"
   ]
  },
  {
   "cell_type": "markdown",
   "id": "667a556a",
   "metadata": {},
   "source": [
    "##### Problem 16: 3 Sum Closest"
   ]
  },
  {
   "cell_type": "markdown",
   "id": "99c6243f",
   "metadata": {},
   "source": [
    "Given an array S of n integers, find three integers in S such that the sum is closest to a given number, target. Return the sum of the three integers. You may assume that each input would have exactly one solution.\n",
    "\n",
    "For example, given array S = {-1 2 1 -4}, and target = 1.\n",
    "\n",
    "The sum that is closest to the target is 2. (-1 + 2 + 1 = 2)."
   ]
  },
  {
   "cell_type": "code",
   "execution_count": null,
   "id": "4d30de97",
   "metadata": {},
   "outputs": [],
   "source": [
    "import sys\n",
    "class Solution(object):\n",
    "    def threeSumClosest(self, nums, target):\n",
    "        \"\"\"\n",
    "        :type nums: List[int]\n",
    "        :type target: int\n",
    "        :rtype: int\n",
    "        \"\"\"\n",
    "        if len(nums) in [0,1,2]:\n",
    "            return 0\n",
    "        else:\n",
    "            min_diff = sys.maxsize\n",
    "            result = 0\n",
    "            sorted_nums = sorted(nums)\n",
    "            for i in range(len(nums)):\n",
    "                start = i + 1\n",
    "                end = len(nums) - 1\n",
    "                while start < end:\n",
    "                    curr_sum = sorted_nums[i] + sorted_nums[start] + sorted_nums[end]\n",
    "                    diff = abs(curr_sum - target)\n",
    "                    if diff == 0:\n",
    "                        return curr_sum\n",
    "                    if diff < min_diff:\n",
    "                        min_diff = diff\n",
    "                        result = curr_sum\n",
    "                    if curr_sum <= target:\n",
    "                        start += 1\n",
    "                    else:\n",
    "                        end -= 1\n",
    "            return result\n",
    "\n",
    "if __name__ == \"__main__\":\n",
    "\n",
    "    soln = Solution()\n",
    "    print(soln.threeSumClosest([-1, 2, 1, -4], 1))\n",
    "    print(soln.threeSumClosest([-1, 2, 1, -4], 3))"
   ]
  },
  {
   "cell_type": "markdown",
   "id": "65f3a9ae",
   "metadata": {},
   "source": [
    "##### Problem 15: 3 Sum Zero\n",
    "Given an array S of n integers, are there elements a, b, c in S such that a + b + c = 0? Find all unique triplets in the array which gives the sum of zero.\n",
    "\n",
    "Note: The solution set must not contain duplicate triplets.\n",
    "\n",
    "For example, given array S = [-1, 0, 1, 2, -1, -4],\n",
    "\n",
    "A solution set is: [ [-1, 0, 1], [-1, -1, 2] ]\n",
    "\n",
    "URL: https://leetcode.com/problems/3sum/"
   ]
  },
  {
   "cell_type": "code",
   "execution_count": null,
   "id": "0f0b7927",
   "metadata": {},
   "outputs": [
    {
     "name": "stdout",
     "output_type": "stream",
     "text": [
      "[[-1, 0, 1], [-1, -1, 2]]\n"
     ]
    }
   ],
   "source": [
    "class Solution(object):\n",
    "    def threeSum(self, nums):\n",
    "        \"\"\"\n",
    "        :type nums: List[int]\n",
    "        :rtype: List[List[int]]\n",
    "        \"\"\"\n",
    "        if len(nums) == 0 or len(nums) == 2 or len(nums) == 1:\n",
    "            return []\n",
    "        else:\n",
    "            sum_zero_list = []\n",
    "            sorted_nums = sorted(nums)\n",
    "            for i in range(0, len(nums) - 2):\n",
    "                start = i + 1\n",
    "                end = len(nums) - 1\n",
    "                while start < end:\n",
    "                    curr_sum = sorted_nums[i] + sorted_nums[start] + sorted_nums[end]\n",
    "                    if curr_sum == 0:\n",
    "                        zero_triplet = (sorted_nums[i], sorted_nums[start], sorted_nums[end])\n",
    "                        sum_zero_list.append(zero_triplet)\n",
    "                        start += 1\n",
    "                        end -= 1\n",
    "                    elif curr_sum < 0:\n",
    "                        start += 1\n",
    "                    elif curr_sum > 0:\n",
    "                        end -= 1\n",
    "\n",
    "            return [list(entries) for entries in set(sum_zero_list)]\n",
    "\n",
    "if __name__ == \"__main__\":\n",
    "    soln = Solution()\n",
    "    print(soln.threeSum([-1, 0, 1, 2, -1, -4]))"
   ]
  },
  {
   "cell_type": "markdown",
   "id": "cb2316ee",
   "metadata": {},
   "source": [
    "##### Problem 17 : Letter Combinations of a Phone Number\n",
    "\n",
    "Given a string containing digits from 2-9 inclusive, return all possible letter combinations that the number could represent. Return the answer in any order.\n",
    "\n",
    "A mapping of digit to letters (just like on the telephone buttons) is given below. Note that 1 does not map to any letters.\n",
    "\n",
    "Example 1:\n",
    "\n",
    "Input: digits = \"23\"\n",
    "Output: [\"ad\",\"ae\",\"af\",\"bd\",\"be\",\"bf\",\"cd\",\"ce\",\"cf\"]\n",
    "Example 2:\n",
    "\n",
    "Input: digits = \"\"\n",
    "Output: []"
   ]
  },
  {
   "cell_type": "code",
   "execution_count": null,
   "id": "4c55f879",
   "metadata": {},
   "outputs": [],
   "source": [
    "class Solution:\n",
    "    def letterCombinations(self, digits: str) -> List[str]:\n",
    "        res = []\n",
    "        DIGIT_LETTER_MAP = { '2': 'abc', '3': 'def','4': 'ghi','5': 'jkl','6': 'mno', '7': 'pqrs', '8': 'tuv', '9': 'wxyz' }\n",
    "\t\t\n",
    "        def backtrack(i, curStr):\n",
    "\t\t\t#Base case\n",
    "            if len(curStr) == len(digits):\n",
    "                res.append(curStr)\n",
    "                return\n",
    "\t\t\t\n",
    "            for c in DIGIT_LETTER_MAP[digits[i]]:\n",
    "                backtrack(i+1, curStr + c)\n",
    "\n",
    "        if digits:\n",
    "            backtrack(0, \"\")\n",
    "                \n",
    "        return res"
   ]
  },
  {
   "cell_type": "markdown",
   "id": "673465b2",
   "metadata": {},
   "source": [
    "##### Problem 19: Remove nth node from end of the list\n",
    "\n",
    "Given the head of a linked list, remove the nth node from the end of the list and return its head.\n",
    "\n",
    "Input: head = [1,2,3,4,5], n = 2\n",
    "Output: [1,2,3,5]\n",
    "Example 2:\n",
    "\n",
    "Input: head = [1], n = 1\n",
    "Output: []\n",
    "Example 3:\n",
    "\n",
    "Input: head = [1,2], n = 1\n",
    "Output: [1]"
   ]
  },
  {
   "cell_type": "code",
   "execution_count": null,
   "id": "15c8c4b0",
   "metadata": {},
   "outputs": [],
   "source": [
    "class Solution:\n",
    "    def removeNthFromEnd(self, head: Optional[ListNode], n: int) -> Optional[ListNode]:\n",
    "        prev = None\n",
    "        slow = head\n",
    "        cur = head\n",
    "        \n",
    "        i = 1\n",
    "        # This loop is to reach 'n' node far from cur node\n",
    "        while i < n:\n",
    "            if cur is None:\n",
    "                return head\n",
    "            cur = cur.next\n",
    "            i += 1\n",
    "            \n",
    "        # Now as we are 'n' node far from slow pointer, we can remove slow pointer node\n",
    "        # when fast(cur) pointer reaches to end\n",
    "        while cur:\n",
    "            if cur.next is None:\n",
    "                if prev:\n",
    "                    prev.next = slow.next\n",
    "                else:\n",
    "                    head = head.next\n",
    "                return head\n",
    "            cur = cur.next\n",
    "            prev = slow\n",
    "            slow = slow.next"
   ]
  },
  {
   "cell_type": "markdown",
   "id": "8466444f",
   "metadata": {},
   "source": [
    "##### Problem 22 : Generate Parenthesis\n",
    "https://leetcode.com/problems/generate-parentheses/solution/\n",
    "\n",
    "Given n pairs of parentheses, write a function to generate all combinations of well-formed parentheses.\n",
    "\n",
    "Example 1:\n",
    "\n",
    "Input: n = 3  \n",
    "Output: [\"((()))\",\"(()())\",\"(())()\",\"()(())\",\"()()()\"]  \n",
    "\n",
    "Example 2:\n",
    "\n",
    "Input: n = 1\n",
    "Output: [\"()\"]"
   ]
  },
  {
   "cell_type": "code",
   "execution_count": null,
   "id": "3f1bf5b1",
   "metadata": {},
   "outputs": [],
   "source": [
    "class Solution:\n",
    "    def generateParenthesis(self, n: int) -> List[str]:\n",
    "        res = []\n",
    "        def backtrack(s, left, right):\n",
    "            if len(s) == 2 * n:\n",
    "                res.append(s)\n",
    "            if left < n:\n",
    "                backtrack(s +'(', left+1, right)\n",
    "            if left > right:\n",
    "                backtrack(s + ')', left, right+1)\n",
    "        backtrack('', 0, 0)\n",
    "        return res"
   ]
  },
  {
   "cell_type": "markdown",
   "id": "8845cf24",
   "metadata": {},
   "source": [
    "##### Problem 217 - Array Contains Duplicate\n",
    "https://leetcode.com/problems/contains-duplicate/\n",
    "\n",
    "\n",
    "Given an integer array nums, return true if any value appears at least twice in the array, and return false if every element is distinct.\n",
    "\n",
    " \n",
    "\n",
    "Example 1:\n",
    "\n",
    "Input: nums = [1,2,3,1]\n",
    "Output: true\n",
    "Example 2:\n",
    "\n",
    "Input: nums = [1,2,3,4]\n",
    "Output: false\n",
    "Example 3:\n",
    "\n",
    "Input: nums = [1,1,1,3,3,4,3,2,4,2]\n",
    "Output: true\n",
    " \n",
    "\n",
    "Constraints:\n",
    "\n",
    "1 <= nums.length <= 105\n",
    "-109 <= nums[i] <= 109"
   ]
  },
  {
   "cell_type": "code",
   "execution_count": null,
   "id": "7d774096",
   "metadata": {},
   "outputs": [],
   "source": [
    "# Solution 1\n",
    "class Solution(object):\n",
    "    def containsDuplicate(self, nums):\n",
    "        \"\"\"\n",
    "        :type nums: List[int]\n",
    "        :rtype: bool\n",
    "        \"\"\"\n",
    "        # use set to check duplicate\n",
    "        return len(nums) != len(set(nums))\n",
    "\n",
    "# Solution 2\n",
    "class Solution(object):\n",
    "    def containsDuplicate(self, nums):\n",
    "        \"\"\"\n",
    "        :type nums: List[int]\n",
    "        :rtype: bool\n",
    "        \"\"\"\n",
    "        if not nums:\n",
    "            return False\n",
    "        elif len(nums) == 1:\n",
    "            return False\n",
    "        else:\n",
    "            dup_dict = {}\n",
    "\n",
    "            for entries in nums:\n",
    "                if entries in dup_dict:\n",
    "                    return True\n",
    "                else:\n",
    "                    dup_dict[entries] = 1\n",
    "            return False"
   ]
  },
  {
   "cell_type": "markdown",
   "id": "ae54fd21",
   "metadata": {},
   "source": [
    "##### Problem 242 - Valid Anagram \n",
    "https://leetcode.com/problems/valid-anagram/\n",
    "    \n",
    "Given two strings s and t, return true if t is an anagram of s, and false otherwise.\n",
    "\n",
    " \n",
    "Example 1:\n",
    "\n",
    "Input: s = \"anagram\", t = \"nagaram\"\n",
    "Output: true\n",
    "Example 2:\n",
    "\n",
    "Input: s = \"rat\", t = \"car\"\n",
    "Output: false\n",
    " \n",
    "\n",
    "Constraints:\n",
    "\n",
    "1 <= s.length, t.length <= 5 * 104\n",
    "s and t consist of lowercase English letters."
   ]
  },
  {
   "cell_type": "code",
   "execution_count": null,
   "id": "ba14a21d",
   "metadata": {},
   "outputs": [],
   "source": [
    "class Solution(object):\n",
    "    def isAnagram(self, s, t):\n",
    "        \"\"\"\n",
    "        :type s: str\n",
    "        :type t: str\n",
    "        :rtype: bool\n",
    "        \"\"\"\n",
    "        if len(s) != len(t):\n",
    "            return False\n",
    "        elif sorted(s) == sorted(t):\n",
    "            return True\n",
    "        else:\n",
    "            return False"
   ]
  },
  {
   "cell_type": "code",
   "execution_count": null,
   "id": "4473514e",
   "metadata": {},
   "outputs": [
    {
     "data": {
      "text/plain": [
       "True"
      ]
     },
     "execution_count": 77,
     "metadata": {},
     "output_type": "execute_result"
    }
   ],
   "source": [
    "s = \"anagram\"\n",
    "t = \"nagaram\" \n",
    "y = Solution()\n",
    "y.isAnagram(s,t)"
   ]
  },
  {
   "cell_type": "code",
   "execution_count": null,
   "id": "9ee3956c",
   "metadata": {},
   "outputs": [
    {
     "data": {
      "text/plain": [
       "False"
      ]
     },
     "execution_count": 78,
     "metadata": {},
     "output_type": "execute_result"
    }
   ],
   "source": [
    "s = \"rat\"\n",
    "t = \"car\"\n",
    "y = Solution()\n",
    "y.isAnagram(s,t)"
   ]
  },
  {
   "cell_type": "markdown",
   "id": "b7a3bdd8",
   "metadata": {},
   "source": [
    "##### Problem 259 - 3 Sum Smaller\n",
    "https://baihuqian.github.io/2018-07-28-3sum-smaller/\n",
    "https://dxmahata.gitbooks.io/leetcode-python-solutions/content/3_sum_smaller.html\n",
    "\n",
    "Given an array of n integers nums and a target, find the number of index triplets i, j, k with 0 <= i < j < k < n that satisfy the condition nums[i] + nums[j] + nums[k] < target.\n",
    "\n",
    "For example, given nums = [-2, 0, 1, 3], and target = 2.\n",
    "\n",
    "Return 2. Because there are two triplets which sums are less than 2:\n",
    "\n",
    "[-2, 0, 1] [-2, 0, 3]"
   ]
  },
  {
   "cell_type": "code",
   "execution_count": null,
   "id": "98349d57",
   "metadata": {},
   "outputs": [],
   "source": [
    "class Solution(object):\n",
    "    def threeSumSmaller(self, nums, target):\n",
    "        \"\"\"\n",
    "        :type nums: List[int]\n",
    "        :type target: int\n",
    "        :rtype: int\n",
    "        \"\"\"\n",
    "        if len(nums) == 0 or len(nums) == 2 or len(nums) == 1:\n",
    "            return len([])\n",
    "        else:\n",
    "            triplet_list = []\n",
    "            sorted_nums = sorted(nums)\n",
    "            for i in range(0, len(nums) - 2):\n",
    "                start = i + 1\n",
    "                end = len(nums) - 1\n",
    "                while start < end:\n",
    "                    curr_sum = sorted_nums[i] + sorted_nums[start] + sorted_nums[end]\n",
    "                    if curr_sum == target:\n",
    "                        end -= 1\n",
    "                    elif curr_sum < target:\n",
    "                        triplet = (sorted_nums[i], sorted_nums[start], sorted_nums[end])\n",
    "                        triplet_list.append(triplet)\n",
    "                        start += 1\n",
    "                    elif curr_sum > target:\n",
    "                        end -= 1\n",
    "            print(triplet_list)          \n",
    "            #return len([list(entries) for entries in set(triplet_list)])\n",
    "            return len(triplet_list)\n",
    "\n",
    "if __name__ == \"__main__\":\n",
    "    soln = Solution()\n",
    "    print(soln.threeSumSmaller([3,1,0,-2], 4))"
   ]
  },
  {
   "cell_type": "code",
   "execution_count": null,
   "id": "5e3d9210",
   "metadata": {},
   "outputs": [],
   "source": [
    "class Solution(object):\n",
    "    def threeSumSmaller(self, nums, target):\n",
    "        \"\"\"\n",
    "        :type nums: List[int]\n",
    "        :type target: int\n",
    "        :rtype: int\n",
    "        \"\"\"\n",
    "        if len(nums) < 3:\n",
    "            return 0\n",
    "\n",
    "        sums = 0\n",
    "        nums.sort()\n",
    "        for i in range(len(nums) - 2):\n",
    "            sums += self.__twoSumSmaller(nums[i+1:], target - nums[i])\n",
    "\n",
    "        return sums\n",
    "\n",
    "    def __twoSumSmaller(self, nums, target):\n",
    "        sums = 0\n",
    "        left, right = 0, len(nums) - 1\n",
    "        while left < right:\n",
    "            if nums[left] + nums[right] < target:\n",
    "                sums += right - left\n",
    "                left += 1\n",
    "            else:\n",
    "                right -= 1\n",
    "\n",
    "        return sums"
   ]
  },
  {
   "cell_type": "markdown",
   "id": "c058090b",
   "metadata": {},
   "source": [
    "##### Problem 344 - Reverse a string\n",
    "https://leetcode.com/problems/reverse-string/\n",
    "    \n",
    "Write a function that reverses a string. The input string is given as an array of characters s.\n",
    "\n",
    " \n",
    "\n",
    "Example 1:\n",
    "\n",
    "Input: s = [\"h\",\"e\",\"l\",\"l\",\"o\"]\n",
    "Output: [\"o\",\"l\",\"l\",\"e\",\"h\"]\n",
    "Example 2:\n",
    "\n",
    "Input: s = [\"H\",\"a\",\"n\",\"n\",\"a\",\"h\"]\n",
    "Output: [\"h\",\"a\",\"n\",\"n\",\"a\",\"H\"]\n",
    " \n",
    "\n",
    "Constraints:\n",
    "\n",
    "1 <= s.length <= 105\n",
    "s[i] is a printable ascii character."
   ]
  },
  {
   "cell_type": "code",
   "execution_count": null,
   "id": "d6656154",
   "metadata": {},
   "outputs": [],
   "source": [
    "class Solution(object):\n",
    "    def reverseString(self, s):\n",
    "        \"\"\"\n",
    "        :type s: str\n",
    "        :rtype: str\n",
    "        \"\"\"\n",
    "\n",
    "        current_str = [char for char in s]\n",
    "\n",
    "        i = 0\n",
    "        j = len(s) - 1\n",
    "\n",
    "        while i < j:\n",
    "            temp = current_str[i]\n",
    "            current_str[i] = current_str[j]\n",
    "            current_str[j] = temp\n",
    "            j -= 1\n",
    "            i += 1\n",
    "\n",
    "        return \"\".join(current_str)"
   ]
  },
  {
   "cell_type": "code",
   "execution_count": null,
   "id": "918aa4ce",
   "metadata": {},
   "outputs": [],
   "source": [
    "s = [\"h\",\"e\",\"l\",\"l\",\"o\"]"
   ]
  },
  {
   "cell_type": "code",
   "execution_count": null,
   "id": "b310b794",
   "metadata": {},
   "outputs": [
    {
     "data": {
      "text/plain": [
       "'hello'"
      ]
     },
     "execution_count": 14,
     "metadata": {},
     "output_type": "execute_result"
    }
   ],
   "source": [
    "\"\".join(s)"
   ]
  },
  {
   "cell_type": "code",
   "execution_count": null,
   "id": "a2575df5",
   "metadata": {},
   "outputs": [],
   "source": [
    "s.reverse()"
   ]
  },
  {
   "cell_type": "code",
   "execution_count": null,
   "id": "057d43a9",
   "metadata": {},
   "outputs": [
    {
     "data": {
      "text/plain": [
       "['o', 'l', 'l', 'e', 'h']"
      ]
     },
     "execution_count": 94,
     "metadata": {},
     "output_type": "execute_result"
    }
   ],
   "source": [
    "s"
   ]
  },
  {
   "cell_type": "code",
   "execution_count": null,
   "id": "fc96f912",
   "metadata": {},
   "outputs": [
    {
     "name": "stdout",
     "output_type": "stream",
     "text": [
      "False\n"
     ]
    }
   ],
   "source": []
  },
  {
   "cell_type": "markdown",
   "id": "d14a44cf",
   "metadata": {},
   "source": [
    "##### Shortest Word Distance\n",
    "\n",
    "Given a list of words and two words word1 and word2, return the shortest distance between these two words in the list.\n",
    "\n",
    "For example, Assume that words = [\"practice\", \"makes\", \"perfect\", \"coding\", \"makes\"].\n",
    "\n",
    "Given word1 = “coding”, word2 = “practice”, return 3. Given word1 = \"makes\", word2 = \"coding\", return 1.\n",
    "\n",
    "Note: You may assume that word1 does not equal to word2, and word1 and word2 are both in the list.\n",
    "\n",
    "URL: https://leetcode.com/problems/shortest-word-distance/"
   ]
  },
  {
   "cell_type": "code",
   "execution_count": null,
   "id": "8f18bccf",
   "metadata": {},
   "outputs": [],
   "source": [
    "import sys\n",
    "class Solution(object):\n",
    "    def shortestDistance(self, words, word1, word2):\n",
    "        \"\"\"\n",
    "        :type words: List[str]\n",
    "        :type word1: str\n",
    "        :type word2: str\n",
    "        :rtype: int\n",
    "        \"\"\"\n",
    "\n",
    "        word2_positions = []\n",
    "        word1_positions = []\n",
    "\n",
    "        for i in range(len(words)):\n",
    "            if word1 == words[i]:\n",
    "                word1_positions.append(i)\n",
    "            if word2 == words[i]:\n",
    "                word2_positions.append(i)\n",
    "\n",
    "        min_dist = sys.maxint\n",
    "\n",
    "        for pos1 in word1_positions:\n",
    "            for pos2 in word2_positions:\n",
    "                if abs(pos1 - pos2) < min_dist:\n",
    "                    min_dist = abs(pos1 - pos2)\n",
    "\n",
    "        return min_dist"
   ]
  },
  {
   "cell_type": "code",
   "execution_count": null,
   "id": "03c2e723",
   "metadata": {},
   "outputs": [
    {
     "name": "stdout",
     "output_type": "stream",
     "text": [
      "9223372036854775807\n"
     ]
    }
   ],
   "source": [
    "import sys\n",
    "print(sys.maxsize)\n",
    "\n",
    "#In programming, maxint/INT_MAX denotes the highest value that can be represented by an integer. \n",
    "#In some cases, while programming, we may need to assign a value that is larger than any other integer value. \n",
    "#Normally one assigns such values manually. For example, consider a list of integers where the minimum value \n",
    "#has to be found out using a for loop"
   ]
  },
  {
   "cell_type": "markdown",
   "id": "33f43f59",
   "metadata": {},
   "source": [
    "### Move Zeroes\n",
    "\n",
    "Given an array nums, write a function to move all 0's to the end of it while maintaining the relative order of the non-zero elements.\n",
    "\n",
    "For example, given nums = [0, 1, 0, 3, 12], after calling your function, nums should be [1, 3, 12, 0, 0].\n",
    "\n",
    "Note: You must do this in-place without making a copy of the array. Minimize the total number of operations.\n",
    "\n",
    "URL:https://leetcode.com/problems/move-zeroes/"
   ]
  },
  {
   "cell_type": "code",
   "execution_count": null,
   "id": "e4ac8f17",
   "metadata": {},
   "outputs": [],
   "source": [
    "class Solution(object):\n",
    "    def moveZeroes(self, nums):\n",
    "        \"\"\"\n",
    "        :type nums: List[int]\n",
    "        :rtype: void Do not return anything, modify nums in-place instead.\n",
    "        \"\"\"\n",
    "\n",
    "        i = 0\n",
    "        j = 0\n",
    "        while j < len(nums):\n",
    "            if nums[j] == 0:\n",
    "                j += 1\n",
    "            else:\n",
    "                nums[i] = nums[j]\n",
    "                i += 1\n",
    "                j += 1\n",
    "\n",
    "        while i < len(nums):\n",
    "            nums[i] = 0\n",
    "            i += 1\n",
    "            \n",
    "if __name__ == \"__main__\":\n",
    "    nums = [0, 1, 0, 3, 12]\n",
    "    sol = Solution()\n",
    "    sol.moveZeroes(nums)"
   ]
  },
  {
   "cell_type": "code",
   "execution_count": null,
   "id": "f8349daf",
   "metadata": {},
   "outputs": [
    {
     "data": {
      "text/plain": [
       "[1, 3, 12, 0, 0]"
      ]
     },
     "execution_count": 21,
     "metadata": {},
     "output_type": "execute_result"
    }
   ],
   "source": [
    "nums"
   ]
  },
  {
   "cell_type": "code",
   "execution_count": null,
   "id": "2f6e95dc",
   "metadata": {},
   "outputs": [
    {
     "data": {
      "text/plain": [
       "['e', 's', 't', 't']"
      ]
     },
     "execution_count": 2,
     "metadata": {},
     "output_type": "execute_result"
    }
   ],
   "source": [
    "s = \"test\"\n",
    "sorted(s)"
   ]
  },
  {
   "cell_type": "code",
   "execution_count": null,
   "id": "2af20293",
   "metadata": {},
   "outputs": [
    {
     "data": {
      "text/plain": [
       "'test'"
      ]
     },
     "execution_count": 3,
     "metadata": {},
     "output_type": "execute_result"
    }
   ],
   "source": [
    "s"
   ]
  },
  {
   "cell_type": "code",
   "execution_count": null,
   "id": "17332c25",
   "metadata": {},
   "outputs": [],
   "source": [
    "s = [3,4,5,1]\n",
    "s.sort()"
   ]
  },
  {
   "cell_type": "code",
   "execution_count": null,
   "id": "bcc4f0aa",
   "metadata": {},
   "outputs": [
    {
     "data": {
      "text/plain": [
       "[1, 3, 4, 5]"
      ]
     },
     "execution_count": 6,
     "metadata": {},
     "output_type": "execute_result"
    }
   ],
   "source": [
    "s"
   ]
  },
  {
   "cell_type": "code",
   "execution_count": null,
   "id": "0c637685",
   "metadata": {},
   "outputs": [],
   "source": [
    "s.reverse()"
   ]
  },
  {
   "cell_type": "code",
   "execution_count": null,
   "id": "d860d479",
   "metadata": {},
   "outputs": [
    {
     "data": {
      "text/plain": [
       "[5, 4, 3, 1]"
      ]
     },
     "execution_count": 8,
     "metadata": {},
     "output_type": "execute_result"
    }
   ],
   "source": [
    "s"
   ]
  },
  {
   "cell_type": "markdown",
   "id": "98ad9583",
   "metadata": {},
   "source": [
    "##### Problem 11: Container with most water\n",
    "Given n non-negative integers a1, a2, ..., an , where each represents a point at coordinate (i, ai). n vertical lines are drawn such that the two endpoints of the line i is at (i, ai) and (i, 0). Find two lines, which, together with the x-axis forms a container, such that the container contains the most water.\n",
    "\n",
    "Notice that you may not slant the container."
   ]
  },
  {
   "cell_type": "code",
   "execution_count": null,
   "id": "e4614b99",
   "metadata": {},
   "outputs": [],
   "source": [
    "class Solution(object):\n",
    "    def maxArea(self, height):\n",
    "        \"\"\"\n",
    "        :type height: List[int]\n",
    "        :rtype: int\n",
    "        \"\"\"\n",
    "        left = 0\n",
    "        right = len(height) - 1\n",
    "        res = 0\n",
    "        \n",
    "        while left < right:\n",
    "            tmp_width = right - left\n",
    "            tmp_height = min(height[left], height[right])\n",
    "            res = max(res, tmp_width * tmp_height)\n",
    "            \n",
    "            if height[left] >= height[right]:\n",
    "                right -= 1\n",
    "            else:\n",
    "                left += 1\n",
    "        \n",
    "        return res"
   ]
  },
  {
   "cell_type": "markdown",
   "id": "f635881a",
   "metadata": {},
   "source": [
    "### Knights problem of covering each cell on Chess board\n",
    "#https://www.geeksforgeeks.org/the-knights-tour-problem-backtracking-1/\n"
   ]
  },
  {
   "cell_type": "code",
   "execution_count": null,
   "id": "1a3519cf",
   "metadata": {},
   "outputs": [
    {
     "name": "stdout",
     "output_type": "stream",
     "text": [
      "0 59 38 33 30 17 8 63 \n",
      "37 34 31 60 9 62 29 16 \n",
      "58 1 36 39 32 27 18 7 \n",
      "35 48 41 26 61 10 15 28 \n",
      "42 57 2 49 40 23 6 19 \n",
      "47 50 45 54 25 20 11 14 \n",
      "56 43 52 3 22 13 24 5 \n",
      "51 46 55 44 53 4 21 12 \n"
     ]
    }
   ],
   "source": [
    "# Python3 program to solve Knight Tour problem using Backtracking\n",
    " \n",
    "# Chessboard Size\n",
    "n = 8\n",
    " \n",
    " \n",
    "def isSafe(x, y, board):\n",
    "    '''\n",
    "    A utility function to check if i,j are valid indexes\n",
    "    for N*N chessboard\n",
    "    '''\n",
    "    if(x >= 0 and y >= 0 and x < n and y < n and board[x][y] == -1):\n",
    "        return True\n",
    "    return False\n",
    "\n",
    " \n",
    "def printSolution(n, board):\n",
    "    '''\n",
    "        A utility function to print Chessboard matrix\n",
    "    '''\n",
    "    for i in range(n):\n",
    "        for j in range(n):\n",
    "            print(board[i][j], end=' ')\n",
    "        print()\n",
    " \n",
    " \n",
    "def solveKT(n):\n",
    "    '''\n",
    "        This function solves the Knight Tour problem using\n",
    "        Backtracking. This function mainly uses solveKTUtil()\n",
    "        to solve the problem. It returns false if no complete\n",
    "        tour is possible, otherwise return true and prints the\n",
    "        tour.\n",
    "        Please note that there may be more than one solutions,\n",
    "        this function prints one of the feasible solutions.\n",
    "    '''\n",
    " \n",
    "    # Initialization of Board matrix\n",
    "    board = [[-1 for i in range(n)]for i in range(n)]\n",
    " \n",
    "    # move_x and move_y define next move of Knight.\n",
    "    # move_x is for next value of x coordinate\n",
    "    # move_y is for next value of y coordinate\n",
    "    move_x = [2, 1, -1, -2, -2, -1, 1, 2]\n",
    "    move_y = [1, 2, 2, 1, -1, -2, -2, -1]\n",
    " \n",
    "    # Since the Knight is initially at the first block\n",
    "    board[0][0] = 0\n",
    " \n",
    "    # Step counter for knight's position\n",
    "    pos = 1\n",
    " \n",
    "    # Checking if solution exists or not\n",
    "    if(not solveKTUtil(n, board, 0, 0, move_x, move_y, pos)):\n",
    "        print(\"Solution does not exist\")\n",
    "    else:\n",
    "        printSolution(n, board)\n",
    " \n",
    " \n",
    "def solveKTUtil(n, board, curr_x, curr_y, move_x, move_y, pos):\n",
    "    '''\n",
    "        A recursive utility function to solve Knight Tour\n",
    "        problem\n",
    "    '''\n",
    " \n",
    "    if(pos == n**2):\n",
    "        return True\n",
    " \n",
    "    # Try all next moves from the current coordinate x, y\n",
    "    for i in range(8):\n",
    "        new_x = curr_x + move_x[i]\n",
    "        new_y = curr_y + move_y[i]\n",
    "        if(isSafe(new_x, new_y, board)):\n",
    "            board[new_x][new_y] = pos\n",
    "            if(solveKTUtil(n, board, new_x, new_y, move_x, move_y, pos+1)):\n",
    "                return True\n",
    " \n",
    "            # Backtracking\n",
    "            board[new_x][new_y] = -1\n",
    "    return False\n",
    " \n",
    " \n",
    "# Driver Code\n",
    "if __name__ == \"__main__\":\n",
    "     \n",
    "    # Function Call\n",
    "    solveKT(n)"
   ]
  },
  {
   "cell_type": "markdown",
   "id": "94effaab",
   "metadata": {},
   "source": [
    "### Problem 39 - Combination Sum\n",
    "\n",
    "Given an array of distinct integers candidates and a target integer target, return a list of all unique combinations of candidates where the chosen numbers sum to target. You may return the combinations in any order.\n",
    "\n",
    "The same number may be chosen from candidates an unlimited number of times. Two combinations are unique if the frequency of at least one of the chosen numbers is different.\n",
    "\n",
    "It is guaranteed that the number of unique combinations that sum up to target is less than 150 combinations for the given input."
   ]
  },
  {
   "cell_type": "code",
   "execution_count": null,
   "id": "a214d246",
   "metadata": {},
   "outputs": [],
   "source": [
    "class Solution():\n",
    "    def combinationSum(self, candidates, target):\n",
    "        \"\"\"\n",
    "        :type candidates: List[int]\n",
    "        :type target: int\n",
    "        :rtype: List[List[int]]\n",
    "        \"\"\"\n",
    "        result = []\n",
    "        path = []\n",
    "\n",
    "        def backtracking(candidates, target, startIndex, num_sum):\n",
    "            if num_sum == target:\n",
    "                result.append(path[:])\n",
    "                return\n",
    "            # this return condition shoulbe particularly noticed\n",
    "            if num_sum > target:\n",
    "                return\n",
    "            for i in range(startIndex, len(candidates)):\n",
    "                num_sum += candidates[i]\n",
    "                path.append(candidates[i])\n",
    "                backtracking(candidates, target, i, num_sum)\n",
    "                path.pop()\n",
    "                num_sum -= candidates[i]\n",
    "\n",
    "        backtracking(candidates, target, 0, 0)\n",
    "        return result"
   ]
  },
  {
   "cell_type": "code",
   "execution_count": null,
   "id": "fbe507c1",
   "metadata": {},
   "outputs": [
    {
     "data": {
      "text/plain": [
       "[[2, 2, 3], [7]]"
      ]
     },
     "execution_count": 5,
     "metadata": {},
     "output_type": "execute_result"
    }
   ],
   "source": [
    "candidates = [2,3,6,7] \n",
    "target = 7\n",
    "y = Solution()\n",
    "y.combinationSum(candidates, target)"
   ]
  },
  {
   "cell_type": "markdown",
   "id": "fee2b172",
   "metadata": {},
   "source": [
    "### Problem 35. Search Insert Position\n",
    "\n",
    "Given a sorted array of distinct integers and a target value, return the index if the target is found. If not, return the index where it would be if it were inserted in order.\n",
    "\n",
    "You must write an algorithm with O(log n) runtime complexity."
   ]
  },
  {
   "cell_type": "code",
   "execution_count": null,
   "id": "be2f6b48",
   "metadata": {},
   "outputs": [
    {
     "ename": "NameError",
     "evalue": "name 'List' is not defined",
     "output_type": "error",
     "traceback": [
      "\u001b[0;31m---------------------------------------------------------------------------\u001b[0m",
      "\u001b[0;31mNameError\u001b[0m                                 Traceback (most recent call last)",
      "\u001b[0;32m/var/folders/3s/ml2_70310395dkxnv0q498lr0000gn/T/ipykernel_1636/1540885767.py\u001b[0m in \u001b[0;36m<module>\u001b[0;34m\u001b[0m\n\u001b[0;32m----> 1\u001b[0;31m \u001b[0;32mclass\u001b[0m \u001b[0mSolution\u001b[0m\u001b[0;34m:\u001b[0m\u001b[0;34m\u001b[0m\u001b[0;34m\u001b[0m\u001b[0m\n\u001b[0m\u001b[1;32m      2\u001b[0m     \u001b[0;32mdef\u001b[0m \u001b[0msearchInsert\u001b[0m\u001b[0;34m(\u001b[0m\u001b[0mself\u001b[0m\u001b[0;34m,\u001b[0m \u001b[0mnums\u001b[0m\u001b[0;34m:\u001b[0m \u001b[0mList\u001b[0m\u001b[0;34m[\u001b[0m\u001b[0mint\u001b[0m\u001b[0;34m]\u001b[0m\u001b[0;34m,\u001b[0m \u001b[0mtarget\u001b[0m\u001b[0;34m:\u001b[0m \u001b[0mint\u001b[0m\u001b[0;34m)\u001b[0m \u001b[0;34m->\u001b[0m \u001b[0mint\u001b[0m\u001b[0;34m:\u001b[0m\u001b[0;34m\u001b[0m\u001b[0;34m\u001b[0m\u001b[0m\n\u001b[1;32m      3\u001b[0m         \u001b[0;32mif\u001b[0m \u001b[0mtarget\u001b[0m \u001b[0;32min\u001b[0m \u001b[0mnums\u001b[0m\u001b[0;34m:\u001b[0m\u001b[0;34m\u001b[0m\u001b[0;34m\u001b[0m\u001b[0m\n\u001b[1;32m      4\u001b[0m             \u001b[0mstart\u001b[0m \u001b[0;34m=\u001b[0m \u001b[0;36m0\u001b[0m\u001b[0;34m\u001b[0m\u001b[0;34m\u001b[0m\u001b[0m\n\u001b[1;32m      5\u001b[0m             \u001b[0mend\u001b[0m \u001b[0;34m=\u001b[0m \u001b[0mlen\u001b[0m\u001b[0;34m(\u001b[0m\u001b[0mnums\u001b[0m\u001b[0;34m)\u001b[0m \u001b[0;34m-\u001b[0m\u001b[0;36m1\u001b[0m\u001b[0;34m\u001b[0m\u001b[0;34m\u001b[0m\u001b[0m\n",
      "\u001b[0;32m/var/folders/3s/ml2_70310395dkxnv0q498lr0000gn/T/ipykernel_1636/1540885767.py\u001b[0m in \u001b[0;36mSolution\u001b[0;34m()\u001b[0m\n\u001b[1;32m      1\u001b[0m \u001b[0;32mclass\u001b[0m \u001b[0mSolution\u001b[0m\u001b[0;34m:\u001b[0m\u001b[0;34m\u001b[0m\u001b[0;34m\u001b[0m\u001b[0m\n\u001b[0;32m----> 2\u001b[0;31m     \u001b[0;32mdef\u001b[0m \u001b[0msearchInsert\u001b[0m\u001b[0;34m(\u001b[0m\u001b[0mself\u001b[0m\u001b[0;34m,\u001b[0m \u001b[0mnums\u001b[0m\u001b[0;34m:\u001b[0m \u001b[0mList\u001b[0m\u001b[0;34m[\u001b[0m\u001b[0mint\u001b[0m\u001b[0;34m]\u001b[0m\u001b[0;34m,\u001b[0m \u001b[0mtarget\u001b[0m\u001b[0;34m:\u001b[0m \u001b[0mint\u001b[0m\u001b[0;34m)\u001b[0m \u001b[0;34m->\u001b[0m \u001b[0mint\u001b[0m\u001b[0;34m:\u001b[0m\u001b[0;34m\u001b[0m\u001b[0;34m\u001b[0m\u001b[0m\n\u001b[0m\u001b[1;32m      3\u001b[0m         \u001b[0;32mif\u001b[0m \u001b[0mtarget\u001b[0m \u001b[0;32min\u001b[0m \u001b[0mnums\u001b[0m\u001b[0;34m:\u001b[0m\u001b[0;34m\u001b[0m\u001b[0;34m\u001b[0m\u001b[0m\n\u001b[1;32m      4\u001b[0m             \u001b[0mstart\u001b[0m \u001b[0;34m=\u001b[0m \u001b[0;36m0\u001b[0m\u001b[0;34m\u001b[0m\u001b[0;34m\u001b[0m\u001b[0m\n\u001b[1;32m      5\u001b[0m             \u001b[0mend\u001b[0m \u001b[0;34m=\u001b[0m \u001b[0mlen\u001b[0m\u001b[0;34m(\u001b[0m\u001b[0mnums\u001b[0m\u001b[0;34m)\u001b[0m \u001b[0;34m-\u001b[0m\u001b[0;36m1\u001b[0m\u001b[0;34m\u001b[0m\u001b[0;34m\u001b[0m\u001b[0m\n",
      "\u001b[0;31mNameError\u001b[0m: name 'List' is not defined"
     ]
    }
   ],
   "source": [
    "class Solution:\n",
    "    def searchInsert(self, nums: List[int], target: int) -> int:\n",
    "        if target in nums:\n",
    "            start = 0\n",
    "            end = len(nums) -1\n",
    "            while start <= end:\n",
    "                mid = (start + end)//2 \n",
    "\n",
    "                if nums[mid] == target:\n",
    "                    return mid\n",
    "                elif nums[mid] < target:\n",
    "                    start = mid + 1\n",
    "                else:\n",
    "                    end = end -1 \n",
    "        else:\n",
    "            for i in range(len(nums)):\n",
    "                if nums[i] > target:\n",
    "                    return i\n",
    "                else:\n",
    "                    if target > max(nums):\n",
    "                        return len(nums)"
   ]
  },
  {
   "cell_type": "markdown",
   "id": "af76957f",
   "metadata": {},
   "source": [
    "### Problem 26: Remove Duplicates from Sorted Array\n",
    "\n",
    "Given an integer array nums sorted in non-decreasing order, remove the duplicates in-place such that each unique element appears only once. The relative order of the elements should be kept the same.\n",
    "\n",
    "Since it is impossible to change the length of the array in some languages, you must instead have the result be placed in the first part of the array nums. More formally, if there are k elements after removing the duplicates, then the first k elements of nums should hold the final result. It does not matter what you leave beyond the first k elements.\n",
    "\n",
    "Return k after placing the final result in the first k slots of nums.\n",
    "\n",
    "Do not allocate extra space for another array. You must do this by modifying the input array in-place with O(1) extra memory.\n",
    "\n",
    "Custom Judge:\n",
    "\n",
    "The judge will test your solution with the following code:"
   ]
  },
  {
   "cell_type": "code",
   "execution_count": null,
   "id": "1ba3d52b",
   "metadata": {},
   "outputs": [
    {
     "ename": "NameError",
     "evalue": "name 'List' is not defined",
     "output_type": "error",
     "traceback": [
      "\u001b[0;31m---------------------------------------------------------------------------\u001b[0m",
      "\u001b[0;31mNameError\u001b[0m                                 Traceback (most recent call last)",
      "\u001b[0;32m/var/folders/3s/ml2_70310395dkxnv0q498lr0000gn/T/ipykernel_1636/2053500657.py\u001b[0m in \u001b[0;36m<module>\u001b[0;34m\u001b[0m\n\u001b[0;32m----> 1\u001b[0;31m \u001b[0;32mclass\u001b[0m \u001b[0mSolution\u001b[0m\u001b[0;34m:\u001b[0m\u001b[0;34m\u001b[0m\u001b[0;34m\u001b[0m\u001b[0m\n\u001b[0m\u001b[1;32m      2\u001b[0m     \u001b[0;32mdef\u001b[0m \u001b[0mremoveDuplicates\u001b[0m\u001b[0;34m(\u001b[0m\u001b[0mself\u001b[0m\u001b[0;34m,\u001b[0m \u001b[0mnums\u001b[0m\u001b[0;34m:\u001b[0m \u001b[0mList\u001b[0m\u001b[0;34m[\u001b[0m\u001b[0mint\u001b[0m\u001b[0;34m]\u001b[0m\u001b[0;34m)\u001b[0m \u001b[0;34m->\u001b[0m \u001b[0mint\u001b[0m\u001b[0;34m:\u001b[0m\u001b[0;34m\u001b[0m\u001b[0;34m\u001b[0m\u001b[0m\n\u001b[1;32m      3\u001b[0m         \u001b[0;32mfor\u001b[0m \u001b[0m_\u001b[0m \u001b[0;32min\u001b[0m \u001b[0mset\u001b[0m\u001b[0;34m(\u001b[0m\u001b[0mnums\u001b[0m\u001b[0;34m)\u001b[0m\u001b[0;34m:\u001b[0m\u001b[0;34m\u001b[0m\u001b[0;34m\u001b[0m\u001b[0m\n\u001b[1;32m      4\u001b[0m             \u001b[0;32mwhile\u001b[0m \u001b[0mnums\u001b[0m\u001b[0;34m.\u001b[0m\u001b[0mcount\u001b[0m\u001b[0;34m(\u001b[0m\u001b[0m_\u001b[0m\u001b[0;34m)\u001b[0m \u001b[0;34m!=\u001b[0m \u001b[0;36m1\u001b[0m\u001b[0;34m:\u001b[0m\u001b[0;34m\u001b[0m\u001b[0;34m\u001b[0m\u001b[0m\n\u001b[1;32m      5\u001b[0m                 \u001b[0mnums\u001b[0m\u001b[0;34m.\u001b[0m\u001b[0mremove\u001b[0m\u001b[0;34m(\u001b[0m\u001b[0m_\u001b[0m\u001b[0;34m)\u001b[0m\u001b[0;34m\u001b[0m\u001b[0;34m\u001b[0m\u001b[0m\n",
      "\u001b[0;32m/var/folders/3s/ml2_70310395dkxnv0q498lr0000gn/T/ipykernel_1636/2053500657.py\u001b[0m in \u001b[0;36mSolution\u001b[0;34m()\u001b[0m\n\u001b[1;32m      1\u001b[0m \u001b[0;32mclass\u001b[0m \u001b[0mSolution\u001b[0m\u001b[0;34m:\u001b[0m\u001b[0;34m\u001b[0m\u001b[0;34m\u001b[0m\u001b[0m\n\u001b[0;32m----> 2\u001b[0;31m     \u001b[0;32mdef\u001b[0m \u001b[0mremoveDuplicates\u001b[0m\u001b[0;34m(\u001b[0m\u001b[0mself\u001b[0m\u001b[0;34m,\u001b[0m \u001b[0mnums\u001b[0m\u001b[0;34m:\u001b[0m \u001b[0mList\u001b[0m\u001b[0;34m[\u001b[0m\u001b[0mint\u001b[0m\u001b[0;34m]\u001b[0m\u001b[0;34m)\u001b[0m \u001b[0;34m->\u001b[0m \u001b[0mint\u001b[0m\u001b[0;34m:\u001b[0m\u001b[0;34m\u001b[0m\u001b[0;34m\u001b[0m\u001b[0m\n\u001b[0m\u001b[1;32m      3\u001b[0m         \u001b[0;32mfor\u001b[0m \u001b[0m_\u001b[0m \u001b[0;32min\u001b[0m \u001b[0mset\u001b[0m\u001b[0;34m(\u001b[0m\u001b[0mnums\u001b[0m\u001b[0;34m)\u001b[0m\u001b[0;34m:\u001b[0m\u001b[0;34m\u001b[0m\u001b[0;34m\u001b[0m\u001b[0m\n\u001b[1;32m      4\u001b[0m             \u001b[0;32mwhile\u001b[0m \u001b[0mnums\u001b[0m\u001b[0;34m.\u001b[0m\u001b[0mcount\u001b[0m\u001b[0;34m(\u001b[0m\u001b[0m_\u001b[0m\u001b[0;34m)\u001b[0m \u001b[0;34m!=\u001b[0m \u001b[0;36m1\u001b[0m\u001b[0;34m:\u001b[0m\u001b[0;34m\u001b[0m\u001b[0;34m\u001b[0m\u001b[0m\n\u001b[1;32m      5\u001b[0m                 \u001b[0mnums\u001b[0m\u001b[0;34m.\u001b[0m\u001b[0mremove\u001b[0m\u001b[0;34m(\u001b[0m\u001b[0m_\u001b[0m\u001b[0;34m)\u001b[0m\u001b[0;34m\u001b[0m\u001b[0;34m\u001b[0m\u001b[0m\n",
      "\u001b[0;31mNameError\u001b[0m: name 'List' is not defined"
     ]
    }
   ],
   "source": [
    "class Solution:\n",
    "    def removeDuplicates(self, nums: List[int]) -> int:\n",
    "        for _ in set(nums):\n",
    "            while nums.count(_) != 1:\n",
    "                nums.remove(_)\n",
    "        return len(nums)"
   ]
  },
  {
   "cell_type": "markdown",
   "id": "cc4a3375",
   "metadata": {},
   "source": [
    "### Remove Element\n",
    "\n",
    "Given an integer array nums and an integer val, remove all occurrences of val in nums in-place. The relative order of the elements may be changed.\n",
    "\n",
    "Since it is impossible to change the length of the array in some languages, you must instead have the result be placed in the first part of the array nums. More formally, if there are k elements after removing the duplicates, then the first k elements of nums should hold the final result. It does not matter what you leave beyond the first k elements.\n",
    "\n",
    "Return k after placing the final result in the first k slots of nums.\n",
    "\n",
    "Do not allocate extra space for another array. You must do this by modifying the input array in-place with O(1) extra memory.\n",
    "\n",
    "Custom Judge:\n",
    "\n",
    "The judge will test your solution with the following code:"
   ]
  },
  {
   "cell_type": "code",
   "execution_count": null,
   "id": "23a37a29",
   "metadata": {},
   "outputs": [],
   "source": [
    "class Solution:\n",
    "    def removeElement(self, nums: List[int], val: int) -> int:\n",
    "        while val in nums:\n",
    "            nums.remove(val)\n",
    "        return len(nums)"
   ]
  },
  {
   "cell_type": "markdown",
   "id": "cf055fca",
   "metadata": {},
   "source": [
    "##### Problem 34 : Find First and Last Position of Element in Sorted Array\n",
    "Given an array of integers nums sorted in ascending order, find the starting and ending position of a given target value.\n",
    "\n",
    "If target is not found in the array, return [-1, -1].\n",
    "\n",
    "You must write an algorithm with O(log n) runtime complexity.\n",
    "\n",
    "Example 1:\n",
    "\n",
    "Input: nums = [5,7,7,8,8,10], target = 8\n",
    "Output: [3,4]\n",
    "Example 2:\n",
    "\n",
    "Input: nums = [5,7,7,8,8,10], target = 6\n",
    "Output: [-1,-1]\n",
    "Example 3:\n",
    "\n",
    "Input: nums = [], target = 0\n",
    "Output: [-1,-1]"
   ]
  },
  {
   "cell_type": "code",
   "execution_count": null,
   "id": "944d5dcd",
   "metadata": {},
   "outputs": [],
   "source": [
    "class Solution:\n",
    "    def searchRange(self, nums: List[int], target: int) -> List[int]:\n",
    "        rl = 0  #lower index\n",
    "        rh = len(nums)-1 #AA#>higher index\n",
    "        \n",
    "        while rl<=rh: #AA#>Do binary search while mid != target, then do brute force!\n",
    "            mid = rl + (rh-rl)//2\n",
    "            \n",
    "            if nums[mid] > target:\n",
    "                rh = mid-1\n",
    "            elif nums[mid] < target:\n",
    "                rl = mid+1\n",
    "            else:\n",
    "                while nums[rh]> nums[mid]:\n",
    "                    rh -=1\n",
    "                while nums [rl] < nums[mid]:\n",
    "                    rl += 1\n",
    "          \n",
    "                return [rl,rh]\n",
    "            \n",
    "        return [-1,-1]"
   ]
  },
  {
   "cell_type": "markdown",
   "id": "f2659692",
   "metadata": {},
   "source": [
    "### Problem 1920: Build Array from Permutation\n",
    "\n",
    "Given a zero-based permutation nums (0-indexed), build an array ans of the same length where ans[i] = nums[nums[i]] for each 0 <= i < nums.length and return it.\n",
    "\n",
    "A zero-based permutation nums is an array of distinct integers from 0 to nums.length - 1 (inclusive).\n"
   ]
  },
  {
   "cell_type": "code",
   "execution_count": null,
   "id": "b8a42cf7",
   "metadata": {},
   "outputs": [],
   "source": [
    "class Solution:\n",
    "    def buildArray(self, nums: List[int]) -> List[int]:\n",
    "        return([nums[nums[i]] for i in range(len(nums))])"
   ]
  },
  {
   "cell_type": "markdown",
   "id": "d792aacf",
   "metadata": {},
   "source": [
    "### Problem 28 : Implement Strstr()\n",
    "Implement strStr().\n",
    "\n",
    "Return the index of the first occurrence of needle in haystack, or -1 if needle is not part of haystack.\n",
    "\n",
    "Clarification:\n",
    "\n",
    "What should we return when needle is an empty string? This is a great question to ask during an interview.\n",
    "\n",
    "For the purpose of this problem, we will return 0 when needle is an empty string. This is consistent to C's strstr() and Java's indexOf()."
   ]
  },
  {
   "cell_type": "code",
   "execution_count": null,
   "id": "7c3961a8",
   "metadata": {},
   "outputs": [],
   "source": [
    "class Solution:\n",
    "    def strStr(self, haystack: str, needle: str) -> int:\n",
    "        \n",
    "        # if needle is \"\" then return \"\"\n",
    "        if needle == \"\":\n",
    "            return 0\n",
    "        \n",
    "        # sweep over haystack using length of needle\n",
    "        # i.e. if haystack = asdasdlol and needle = lol: asd, sda, das ... lol\n",
    "        for i, v in enumerate(haystack):\n",
    "            if haystack[i:i+len(needle)] == needle:\n",
    "                return i\n",
    "\n",
    "        # if needle not found in haystack\n",
    "        return -1"
   ]
  },
  {
   "cell_type": "code",
   "execution_count": null,
   "id": "d85845bb",
   "metadata": {},
   "outputs": [
    {
     "name": "stdout",
     "output_type": "stream",
     "text": [
      "0 t\n",
      "1 e\n",
      "2 s\n",
      "3 t\n",
      "4 i\n",
      "5 n\n",
      "6 g\n"
     ]
    }
   ],
   "source": [
    "x = \"testing\"\n",
    "for i, v in enumerate(x):\n",
    "    print(i,v)"
   ]
  },
  {
   "cell_type": "markdown",
   "id": "bb1e371a",
   "metadata": {},
   "source": [
    "### Problem 54: Maximum Subarray\n",
    "Given an integer array nums, find the contiguous subarray (containing at least one number) which has the largest sum and return its sum.\n",
    "\n",
    "A subarray is a contiguous part of an array."
   ]
  },
  {
   "cell_type": "code",
   "execution_count": null,
   "id": "6f5b266e",
   "metadata": {},
   "outputs": [],
   "source": [
    "class Solution:\n",
    "    def maxSubArray(self, nums) -> int:\n",
    "        for i in range(1, len(nums)):\n",
    "            nums[i] = max(nums[i-1] + nums[i], nums[i])\n",
    "            print(nums[i])\n",
    "        return max(nums)"
   ]
  },
  {
   "cell_type": "code",
   "execution_count": null,
   "id": "06bece7b",
   "metadata": {},
   "outputs": [
    {
     "name": "stdout",
     "output_type": "stream",
     "text": [
      "1\n",
      "-2\n",
      "4\n",
      "3\n",
      "5\n",
      "6\n",
      "1\n",
      "5\n"
     ]
    },
    {
     "data": {
      "text/plain": [
       "6"
      ]
     },
     "execution_count": 11,
     "metadata": {},
     "output_type": "execute_result"
    }
   ],
   "source": [
    "nums = [-2,1,-3,4,-1,2,1,-5,4]\n",
    "y = Solution()\n",
    "y.maxSubArray(nums)"
   ]
  },
  {
   "cell_type": "markdown",
   "id": "d37f3b41",
   "metadata": {},
   "source": [
    "### Problem 154 : Maximum Product Subarray\n",
    "\n",
    "Given an integer array nums, find a contiguous non-empty subarray within the array that has the largest product, and return the product.\n",
    "\n",
    "It is guaranteed that the answer will fit in a 32-bit integer.\n",
    "\n",
    "A subarray is a contiguous subsequence of the array."
   ]
  },
  {
   "cell_type": "code",
   "execution_count": null,
   "id": "f54a5e6a",
   "metadata": {},
   "outputs": [],
   "source": [
    "class Solution:\n",
    "    def maxProduct(self, nums: List[int]) -> int:\n",
    "        prevMin, prevMax, ans = nums[0], nums[0], nums[0]\n",
    "        for i in range(1, len(nums)):\n",
    "            tmp = [prevMin * nums[i], prevMax * nums[i], nums[i]]  \n",
    "            # perform all the calculations first\n",
    "            prevMin, prevMax = min(tmp), max(tmp)\n",
    "            ans = max(ans, prevMax)\n",
    "        return ans"
   ]
  },
  {
   "cell_type": "markdown",
   "id": "614e1397",
   "metadata": {},
   "source": [
    "### Problem 58. Length of the last word\n",
    "\n",
    "Given a string s consisting of some words separated by some number of spaces, return the length of the last word in the string.\n",
    "\n",
    "A word is a maximal substring consisting of non-space characters only.\n"
   ]
  },
  {
   "cell_type": "code",
   "execution_count": null,
   "id": "d81bbe71",
   "metadata": {},
   "outputs": [],
   "source": [
    "class Solution:\n",
    "    def lengthOfLastWord(self, s: str) -> int:\n",
    "        words = s.split()\n",
    "        #print(words)\n",
    "        return len(words[-1])"
   ]
  },
  {
   "cell_type": "markdown",
   "id": "67d4d552",
   "metadata": {},
   "source": [
    "### Problem 66 : Plus One\n",
    "\n",
    "You are given a large integer represented as an integer array digits, where each digits[i] is the ith digit of the integer. The digits are ordered from most significant to least significant in left-to-right order. The large integer does not contain any leading 0's.\n",
    "\n",
    "Increment the large integer by one and return the resulting array of digits."
   ]
  },
  {
   "cell_type": "code",
   "execution_count": null,
   "id": "da0fd51e",
   "metadata": {},
   "outputs": [],
   "source": [
    "class Solution:\n",
    "    def plusOne(self, digits: List[int]) -> List[int]:\n",
    "        n = len(digits)\n",
    "        number = 0\n",
    "        for i in range(n):\n",
    "            print(i)\n",
    "            number += 10 ** (n-i-1) * digits[i] \n",
    "            print(number)\n",
    "        number = number + 1\n",
    "        return [int(i) for i in str(number)]\n",
    "        "
   ]
  },
  {
   "cell_type": "markdown",
   "id": "2b52f381",
   "metadata": {},
   "source": [
    "### Problem 70 : Climbing Stairs \n",
    "\n",
    "You are climbing a staircase. It takes n steps to reach the top.\n",
    "\n",
    "Each time you can either climb 1 or 2 steps. In how many distinct ways can you climb to the top?\n",
    "\n",
    "Input: n = 3\n",
    "Output: 3\n",
    "Explanation: There are three ways to climb to the top.\n",
    "1. 1 step + 1 step + 1 step\n",
    "2. 1 step + 2 steps\n",
    "3. 2 steps + 1 step\n"
   ]
  },
  {
   "cell_type": "code",
   "execution_count": null,
   "id": "522e4929",
   "metadata": {},
   "outputs": [],
   "source": [
    "class Solution:\n",
    "    def climbStairs(self, n: int) -> int:\n",
    "        \n",
    "        if n<=3: return n\n",
    "        \n",
    "        possible_options = [1,2,3]\n",
    "        for i in range(4, n+1):\n",
    "            possible_options.append(possible_options[-1] + possible_options[-2])\n",
    "        return possible_options[-1]"
   ]
  },
  {
   "cell_type": "markdown",
   "id": "2e3672ec",
   "metadata": {},
   "source": [
    "##### Problem 88 : Merge Sorted Array \n",
    "You are given two integer arrays nums1 and nums2, sorted in non-decreasing order, and two integers m and n, representing the number of elements in nums1 and nums2 respectively.\n",
    "\n",
    "Merge nums1 and nums2 into a single array sorted in non-decreasing order.\n",
    "\n",
    "The final sorted array should not be returned by the function, but instead be stored inside the array nums1. To accommodate this, nums1 has a length of m + n, where the first m elements denote the elements that should be merged, and the last n elements are set to 0 and should be ignored. nums2 has a length of n."
   ]
  },
  {
   "cell_type": "code",
   "execution_count": null,
   "id": "dd347b61",
   "metadata": {},
   "outputs": [],
   "source": [
    "class Solution:\n",
    "    def merge(self, nums1: List[int], m: int, nums2: List[int], n: int) -> None:\n",
    "        \"\"\"\n",
    "        Do not return anything, modify nums1 in-place instead.\n",
    "        \"\"\"\n",
    "        for i in range(m, m+n):\n",
    "            nums1[i] = nums1[i] + nums2[i-m]\n",
    "        nums1 = nums1.sort()\n",
    "        return nums1"
   ]
  },
  {
   "cell_type": "markdown",
   "id": "281a043f-7bc1-49c2-b0bc-05d9bf78ec1a",
   "metadata": {},
   "source": [
    "### Problem 2 : Add two numbers\n",
    "\n",
    "You are given two non-empty linked lists representing two non-negative integers. The digits are stored in reverse order, and each of their nodes contains a single digit. Add the two numbers and return the sum as a linked list.\n",
    "\n",
    "You may assume the two numbers do not contain any leading zero, except the number 0 itself.\n",
    "\n",
    "\n",
    "Input: l1 = [2,4,3], l2 = [5,6,4]\n",
    "Output: [7,0,8]\n",
    "Explanation: 342 + 465 = 807."
   ]
  },
  {
   "cell_type": "code",
   "execution_count": null,
   "id": "a56e5b7a-37a0-4bfa-85a8-98d3e6aaadd9",
   "metadata": {},
   "outputs": [],
   "source": [
    "# Definition for singly-linked list.\n",
    "# class ListNode:\n",
    "#     def __init__(self, val=0, next=None):\n",
    "#         self.val = val\n",
    "#         self.next = next\n",
    "class Solution:\n",
    "    def addTwoNumbers(self, l1: Optional[ListNode], l2: Optional[ListNode]) -> Optional[ListNode]:\n",
    "        result = ListNode(0)\n",
    "        result_tail = result\n",
    "        carry = 0\n",
    "        \n",
    "        while l1 or l2 or carry:\n",
    "            val1 = (l1.val if l1 else 0)\n",
    "            val2 = (l2.val if l2 else 0)\n",
    "            carry,out = divmod(val1+val2+carry, 10)\n",
    "            \n",
    "            result_tail.next = ListNode(out)\n",
    "            result_tail = result_tail.next\n",
    "            \n",
    "            l1 = (l1.next if l1 else None)\n",
    "            l2 = (l2.next if l2 else None)\n",
    "            \n",
    "        return result.next"
   ]
  },
  {
   "cell_type": "code",
   "execution_count": null,
   "id": "96bc3f39-a516-4f49-a2f0-255288faf73a",
   "metadata": {},
   "outputs": [],
   "source": []
  },
  {
   "cell_type": "markdown",
   "id": "8dcffac2-3301-4f42-8fca-5cc8280b955f",
   "metadata": {},
   "source": [
    "### Decreasing Subsequent Values\n",
    "Given an integer array arr, write a function decreasing_values to return an array of integers so that the subsequent integers in the array get filtered out if they are less than an integer in a later index of the array.\n",
    "\n",
    "arr = [20,17,19,18,12,16,10,4,6,3]\n",
    "\n",
    "def decreasing_values(arr) -> [20,19,18,16,10,6,3]\n",
    "\n",
    "\n",
    "arr = [25,30,21,22,14,10,5,26]\n",
    "\n",
    "def decreasing_values(arr) -> [30,26]"
   ]
  },
  {
   "cell_type": "markdown",
   "id": "1d05febc-5446-4948-96f0-1157b1d12975",
   "metadata": {},
   "source": [
    "This problem is difficult because it seems like it requires logic around addition and deletion from an array. The problem states that we want continuous decreasing values from the first element in the array until the end.\n",
    "\n",
    "That means if a value in the array is smaller than a subsequent value further down the array, we must delete it from the list. But if all subsequent values are smaller, then we must keep it.\n",
    "\n",
    "One trick we can use is to record the attached indices for each value and then sort the values by order, we can then compare the new indices against the old indices. This allows us to then throw out the values that would be decreasing and outliers."
   ]
  },
  {
   "cell_type": "code",
   "execution_count": null,
   "id": "4e95eae6-06df-44fb-a976-8601c13a5a7c",
   "metadata": {},
   "outputs": [],
   "source": [
    "def decreasing_values(arr):\n",
    "    dic = {}\n",
    "\n",
    "    #loop through the array\n",
    "    for index, v in enumerate(arr):\n",
    "        if v in dic:\n",
    "        # if the value already exists in the dictionary and the index is\n",
    "        # further down in the array, set the new index to the value\n",
    "            if index > dic[v]:\n",
    "                dic[v] = index\n",
    "        else:\n",
    "            dic[v] = index\n",
    "\n",
    "    # create a sorted tuple of the values as the key and the indices as   \n",
    "    # the value\n",
    "    dic = sorted(dic.items(), key=lambda x: x[0], reverse=True)\n",
    "    output = []\n",
    "\n",
    "    # set res as our second index\n",
    "    res = 0\n",
    "\n",
    "    # loop through each value in the dictionary starting with the \n",
    "    # highest value\n",
    "    for v, index in dic:\n",
    "\n",
    "        # if the index is greater than the new index, then we know \n",
    "        # this is the largest value. So we set the new index with the\n",
    "        # largest value index. \n",
    "        if index >= res:\n",
    "            res = index\n",
    "            output.append(v)\n",
    "    return output"
   ]
  },
  {
   "cell_type": "code",
   "execution_count": null,
   "id": "b36a86ad-5879-4758-83cd-98f54ff7752d",
   "metadata": {},
   "outputs": [],
   "source": [
    "def postmates(n): return [v for i, v in enumerate(n) if v >= max(n[i:])]\n",
    "\n",
    "def postmates2(n):\n",
    "    output = []\n",
    "    for pos, element in enumerate(n):\n",
    "        if element >= max(n[pos:]):\n",
    "            output.append(element)\n",
    "    return output"
   ]
  },
  {
   "cell_type": "markdown",
   "id": "13ef1d06-5c06-4559-b704-6fa35bb24066",
   "metadata": {},
   "source": [
    "### String Shift\n",
    "\n",
    "Given two strings A and B, write a function can_shift to return whether or not A can be shifted some number of places to get B.\n",
    "\n",
    "A = 'abcde'\n",
    "B = 'cdeab'\n",
    "can_shift(A, B) == True\n",
    "\n",
    "A = 'abc'\n",
    "B = 'acb'\n",
    "can_shift(A, B) == False"
   ]
  },
  {
   "cell_type": "markdown",
   "id": "3bb8e00f-b648-4031-bb71-0ef986658c87",
   "metadata": {},
   "source": [
    "This problem is relatively simple if we figure out the underlying algorithm that allows us to easily check for string shifts between strings A and B.\n",
    "\n",
    "First off we have to set baseline conditions for string shifting. Strings A and B must both be the same length and consist of the same letters. We can check for the former by setting a conditional statement for if the length of A is equivalent to the length of B.\n",
    "\n",
    "Now we let’s think about the string shift. If B is reordered from A then the condition has failed. But we can check order if we continue to repeat B and then compare to see if A exists in B.\n"
   ]
  },
  {
   "cell_type": "code",
   "execution_count": null,
   "id": "56b40952-3b93-4700-8933-be799351e180",
   "metadata": {},
   "outputs": [],
   "source": [
    "def can_shift(A, B):\n",
    "    return ( A and B and \n",
    "        len(A) == len(B) and \n",
    "        A in B * 2 )"
   ]
  },
  {
   "cell_type": "code",
   "execution_count": null,
   "id": "6f22bab7-981d-4d24-a374-c5fe0a03f53a",
   "metadata": {},
   "outputs": [],
   "source": [
    "Missing Number\n",
    "\n",
    "def missingNumber(nums):\n",
    "    \n",
    "    return sum(range(max(nums)+1)) - sum(nums)"
   ]
  },
  {
   "cell_type": "markdown",
   "id": "fe4149e4-2460-4327-bd3a-4db9779f3e6b",
   "metadata": {},
   "source": [
    "### One Element Removed\n",
    "There are two lists, list X and list Y. Both lists contain integers from -1000 to 1000 and are identical to each other except that one integer is removed in list Y that exists in list X.\n",
    "\n",
    "Write a function one_element_removed that takes in both lists and returns the integer that was removed in O(1) space and O(n) time without using the python set function.\n",
    "\n",
    "list_x = [1,2,3,4,5]\n",
    "list_y = [1,2,4,5]\n",
    "\n",
    "one_element_removed(list_x, list_y) -> 3\n"
   ]
  },
  {
   "cell_type": "code",
   "execution_count": null,
   "id": "37244a22-2434-47e1-aa75-0bb80b50bee1",
   "metadata": {},
   "outputs": [],
   "source": [
    "The quick and simple solution is to sum up all the numbers in X and sum up all the numbers in Y and subtract the sum of X from the sum of Y, and that gives you the number that’s missing. Because the elements in the list are integers, it adds a different dimension to the problem in creativity rather than the typical approach of data structures and algorithms.\n",
    "\n",
    "def one_element_removed(list_x, list_y):\n",
    "    return sum(list_x) - sum(list_y)"
   ]
  },
  {
   "cell_type": "markdown",
   "id": "0ff81718-8b1b-4b34-a918-99ffbb1d0982",
   "metadata": {},
   "source": [
    "Always ask follow up questions when given constraints. The interviewer could be holding back assumptions that would not ever be known without asking for more clarification. Some example would be:\n",
    "\n",
    "Is the list sorted?\n",
    "Is one of the lists the set of all integers from -1000 to 1000?\n",
    "Are any built in functions allowed besides the set function?\n",
    "Additional another option is to do a bitwise solution that can be solved in O(1) space and O(n) time:\n"
   ]
  },
  {
   "cell_type": "code",
   "execution_count": null,
   "id": "a506b88e-e23c-46f5-ab0c-8c96143f5bc5",
   "metadata": {},
   "outputs": [],
   "source": [
    "def find_missing(full, missing):\n",
    "    m = 0\n",
    "    for i in full:\n",
    "        m ^= i\n",
    "​\n",
    "    for i in missing:\n",
    "        m ^= i\n",
    "​\n",
    "    return m\n",
    "​\n",
    "f = [-1000, 1000, 400, 5]\n",
    "miss = [-1000, 1000, 400]\n",
    "​\n",
    "print(find_missing(f, miss))"
   ]
  },
  {
   "cell_type": "markdown",
   "id": "3f7ea549-4c7d-4db2-8646-19f3e513bf5e",
   "metadata": {},
   "source": [
    "### Scrambled Tickets\n",
    "Consider a trip from one city to another that may contain many layovers. Given the list of flights out of order, each with a starting city and end city, write a function plan_trip to reconstruct the path of the trip so the trip tickets are in order.\n",
    "\n",
    "Example:\n",
    "\n",
    "For a trip from Bombay to Beijing:\n",
    "\n",
    "flights = [\n",
    "    ['Chennai', 'Bangalore'], \n",
    "    ['Bombay', 'Delhi'], \n",
    "    ['Goa', 'Chennai'], \n",
    "    ['Delhi', 'Goa'], \n",
    "    ['Bangalore', 'Beijing']\n",
    "]   \n",
    "output = [\n",
    "    ['Bombay', 'Delhi'], \n",
    "    ['Delhi', 'Goa'], \n",
    "    ['Goa', 'Chennai'], \n",
    "    ['Chennai', 'Bangalore'], \n",
    "    ['Bangalore', 'Beijing'],\n",
    "]"
   ]
  },
  {
   "cell_type": "markdown",
   "id": "d5675bf8-e4ff-4355-ba82-19fbb2575212",
   "metadata": {},
   "source": [
    "There are a few correct solutions to this problem that are O(N) time, but let’s take a look at a simple, elegant solution that uses a directed acyclic graph (DAG).\n",
    "\n",
    "In problems of this nature, it’s good to clarify your assumptions with the interviewer. Let’s start out by stating our assumptions.\n",
    "\n",
    "Can we assume the input will alway be valid?\n",
    "Is this set of flights guaranteed to not have duplicates? (eg. Can we visit any of the cities twice?)\n",
    "The first thing we need to do is figure out where the start and end cities are. We can do that by building our graph and traversing through each (start city: end city) combination.\n",
    "\n",
    "There are a few ways to do this, but the simplest is to iterate through the list of tickets and sort the departure and arrival cities into sets. While we’re doing this, we can also build up our directed graph as a dictionary where the departure city is the key, and the arrival city is the value. We then can take the set difference of the departure cities set and the arrival cities set, yielding a set containing only the first start city.\n",
    "\n",
    "Now that we have the graph built up and the starting point, we simply iterate through and print each pair until we’ve exhausted our list.\n",
    "\n",
    "The corner cases are also worth discussing. What happens if the trip array is empty? what about if there is only one flight? These are things you should be prepared to answer if the interviewer asks.\n",
    "\n",
    "What’s the runtime of this? O(n). Why? We make one pass over the array of ticket to inter cities into the sets and create our graph. We then traverse our graph of cities which is also an O(n) operation. Since the number of operations ends up being a constant times O(n), we just say this is O(n).\n",
    "\n",
    "Where does this solution break down? This stops working if there are ever any cycles in the list. Say for instance we went from Bombay to Delhi, Delhi to Goa, Goa to Bombay, now our program would never terminate because we would be stuck in a cycle. The scope of the problem would probably have to change from finding the path to determining if there is a valid path given the input."
   ]
  },
  {
   "cell_type": "code",
   "execution_count": null,
   "id": "212e1f0c-2a5c-4cee-92ec-905ae7525dc8",
   "metadata": {},
   "outputs": [],
   "source": [
    "import collections\n",
    "\n",
    "def plan_trip(input_cities):\n",
    "    trip_graph = collections.defaultdict(lambda: None)\n",
    "    source_cities = set()\n",
    "    destination_cities = set()\n",
    "    for source, destination in input_cities:\n",
    "        trip_graph[source] = destination\n",
    "        source_cities.add(source)\n",
    "        destination_cities.add(destination)\n",
    "   \n",
    "    start_city = (source_cities - destination_cities).pop()\n",
    "    traversal = []\n",
    "    start, end = start_city, trip_graph[start_city]\n",
    "    while end is not None:\n",
    "        traversal.append([start, end])\n",
    "        start, end = end, trip_graph[end]\n",
    "       \n",
    "    return traversal"
   ]
  },
  {
   "cell_type": "markdown",
   "id": "6d0dbb28-f8e4-449a-9a01-df991d80daf2",
   "metadata": {},
   "source": [
    "### Equivalent Index\n",
    "\n",
    "Given a list of integers, find the index at which the sum of the left half of the list is equal to the right half.\n",
    "\n",
    "If there is no index where this condition is satisfied return -1.\n",
    "\n",
    "Example 1:\n",
    "\n",
    "nums = [1, 7, 3, 5, 6] findIndex(nums) -> 2 Example 2:\n",
    "\n",
    "nums = [1,3,5] findIndex(nums) -> -1"
   ]
  },
  {
   "cell_type": "code",
   "execution_count": null,
   "id": "2eae7151-ed88-4cb2-9603-ac75fb953463",
   "metadata": {},
   "outputs": [],
   "source": [
    "def pivotIndex(self, nums):\n",
    "\n",
    "    total_sum = sum(nums)\n",
    "    left_sum = 0\n",
    "    for i, num in enumerate(nums):\n",
    "        if left_sum == (total_sum - left_sum - num):\n",
    "            return i\n",
    "        left_sum += num\n",
    "    return -1"
   ]
  },
  {
   "cell_type": "markdown",
   "id": "57528c8b-a716-46d7-bc58-c60cc0855714",
   "metadata": {},
   "source": [
    "##### Linear Regression Coefficients\n",
    "Given a matrix of X and Y values, write a function to generate a transposed matrix and estimate the parameters for linear regression.\n",
    "\n",
    "Example:\n",
    "\n",
    "Input:\n",
    "\n",
    "A = [[1, 5], [4,8], [5,9]]\n",
    "Output:\n",
    "\n",
    "A_T = [[1, 4, 5], [5, 8, 9]]  \n",
    "α = 4  \n",
    "β = 1  \n",
    "ŷ = 1X + 4"
   ]
  },
  {
   "cell_type": "code",
   "execution_count": null,
   "id": "9b13a810-18bf-43aa-b3a7-7adaf6af6473",
   "metadata": {},
   "outputs": [],
   "source": [
    "import numpy as np\n",
    "A = [[1,5],[4,8],[5,9]]\n",
    "result = []\n",
    "for i in range(len(A[0])): \n",
    "    temp = []\n",
    "    for j in range(len(A)): \n",
    "        temp.append(A[j][i])\n",
    "    result.append(temp)\n",
    "print(\"A_T = \", result) #calculating transpose using base python\n",
    "\n",
    "X_b = np.array([[1,_] for _ in result[0]])\n",
    "y = np.array([[_] for _ in result[1]])\n",
    "print(X_b,y)\n",
    "coefficients = np.linalg.inv(X_b.T.dot(X_b)).dot(X_b.T).dot(y)\n",
    "print(\"Alpha = \", coefficients[1][0])\n",
    "print(\"Beta = \", coefficients[0][0])"
   ]
  },
  {
   "cell_type": "markdown",
   "id": "83ec3001-8322-459d-87e5-bea7c2471eb7",
   "metadata": {},
   "source": [
    "##### Move zeroes back\n",
    "\n",
    "Given an array of integers, write a function move_zeros_back that moves all zeros in the array to the end of the array. If there are no zeros, return the input array.\n",
    "\n",
    "Example:\n",
    "\n",
    "array = [0,5,4,2,0,3]\n",
    "def move_zeros_back(array) -> [5,4,2,3,0,0]"
   ]
  },
  {
   "cell_type": "code",
   "execution_count": null,
   "id": "343c8e33-d1bd-4e88-82d5-b7feaee59277",
   "metadata": {},
   "outputs": [],
   "source": [
    "def move_zeros(arr1):\n",
    "    for x in arr1:\n",
    "        if x==0:\n",
    "            arr1.remove(x)\n",
    "            arr1.insert(len(arr1),x)\n",
    "    return arr1\n",
    "\n",
    "def move_zeros(inputArray): \n",
    "    #Isolating non-zeros \n",
    "    nonZero = [i for i in inputArray if i != 0]\n",
    "    \n",
    "    #Isolating the zeros\n",
    "    zeros = [i for i in inputArray if i ==0]\n",
    "\n",
    "    output = nonZero + zeros\n",
    "    return output"
   ]
  }
 ],
 "metadata": {
  "kernelspec": {
   "display_name": "Python 3 (ipykernel)",
   "language": "python",
   "name": "python3"
  },
  "language_info": {
   "codemirror_mode": {
    "name": "ipython",
    "version": 3
   },
   "file_extension": ".py",
   "mimetype": "text/x-python",
   "name": "python",
   "nbconvert_exporter": "python",
   "pygments_lexer": "ipython3",
   "version": "3.9.6"
  }
 },
 "nbformat": 4,
 "nbformat_minor": 5
}

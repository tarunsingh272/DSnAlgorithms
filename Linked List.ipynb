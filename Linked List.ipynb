{
 "cells": [
  {
   "cell_type": "markdown",
   "id": "17e3e88c",
   "metadata": {},
   "source": [
    "Linked List is ordered data structures just like array  \n",
    "Access in linear fashion  \n",
    "We have a head  \n",
    "Each node has 2 parts info and next  \n",
    "Next is reference to next node   \n",
    "End node will have next as Null/None i.e. No reference forward  \n",
    "Idea is to drop continuous memory requirements so that insert/delete can happen faster  \n",
    "Array have continuous memory requirements   \n",
    "Complexity is high linear in Array for deletion and insertion whereas it is constant for Linked List"
   ]
  },
  {
   "cell_type": "code",
   "execution_count": 1,
   "id": "0d657e4b",
   "metadata": {},
   "outputs": [
    {
     "name": "stdout",
     "output_type": "stream",
     "text": [
      "10\n",
      "20\n",
      "30\n"
     ]
    }
   ],
   "source": [
    "# Linked List Definition \n",
    "class Node:\n",
    "    def __init__(self, k):\n",
    "        self.key = k\n",
    "        self.next = None\n",
    "\n",
    "\n",
    "temp1 = Node(10)\n",
    "temp2 = Node(20)\n",
    "temp3 = Node(30)\n",
    "\n",
    "temp1.next = temp2\n",
    "temp2.next = temp3\n",
    "\n",
    "head = temp1\n",
    "print(head.key)\n",
    "print(head.next.key)\n",
    "print(head.next.next.key)"
   ]
  },
  {
   "cell_type": "code",
   "execution_count": 2,
   "id": "775f97e0",
   "metadata": {},
   "outputs": [],
   "source": [
    "# Alternative Implementation\n",
    "head = Node(10)\n",
    "head.next = Node(20)\n",
    "head.next.next = Node(30)"
   ]
  },
  {
   "cell_type": "markdown",
   "id": "d436e058",
   "metadata": {},
   "source": [
    "### Applications of Linked List\n",
    "- Worst case insertion at the end and begin are Theta(1) constant time\n",
    "-  Worst case deletion from the begin are Theta(1) constant time\n",
    "- Insertion and Deletion in middle are Theta(1) if we have ref to previous node\n",
    "- Round Robin Implementation (Circular Linked List)\n",
    "- Merging two sorted linked lists is faster than arrays\n",
    "- Implementation of simple memory manager when we need yo link free blocks\n",
    "- Easier Implementation of Queue and Deque data structures"
   ]
  },
  {
   "cell_type": "code",
   "execution_count": 3,
   "id": "2c7ea728",
   "metadata": {},
   "outputs": [
    {
     "name": "stdout",
     "output_type": "stream",
     "text": [
      "10 20 15 30 "
     ]
    }
   ],
   "source": [
    "# Traversing a Linked List\n",
    "\n",
    "class Node:\n",
    "    def __init__(self, key):\n",
    "        self.key = key\n",
    "        self.next = None\n",
    "\n",
    "\n",
    "def printList(head):\n",
    "    curr = head\n",
    "    while curr!= None:\n",
    "        print(curr.key, end=\" \")\n",
    "        curr = curr.next\n",
    "\n",
    "\n",
    "head = Node(10)\n",
    "head.next = Node(20)\n",
    "head.next.next = Node(15)\n",
    "head.next.next.next = Node(30)\n",
    "printList(head)"
   ]
  },
  {
   "cell_type": "code",
   "execution_count": 4,
   "id": "4935331e",
   "metadata": {},
   "outputs": [
    {
     "name": "stdout",
     "output_type": "stream",
     "text": [
      "3\n"
     ]
    }
   ],
   "source": [
    "# Searching in a Linked List\n",
    "\n",
    "class Node:\n",
    "    def __init__(self, k):\n",
    "        self.key = k\n",
    "        self.next = None\n",
    "\n",
    "\n",
    "def search(head, x):\n",
    "    pos = 1\n",
    "    curr = head\n",
    "    while curr != None:\n",
    "        if curr.key == x:\n",
    "            return pos\n",
    "        pos = pos + 1\n",
    "        curr = curr.next\n",
    "    return -1\n",
    "\n",
    "\n",
    "head = Node(10)\n",
    "head.next = Node(15)\n",
    "head.next.next = Node(20)\n",
    "head.next.next.next = Node(25)\n",
    "x = 20\n",
    "print(search(head, x))"
   ]
  },
  {
   "cell_type": "code",
   "execution_count": 5,
   "id": "e19dc563",
   "metadata": {},
   "outputs": [
    {
     "name": "stdout",
     "output_type": "stream",
     "text": [
      "-1\n"
     ]
    }
   ],
   "source": [
    "x = 30\n",
    "print(search(head, x))"
   ]
  },
  {
   "cell_type": "code",
   "execution_count": 6,
   "id": "e58e87cd",
   "metadata": {},
   "outputs": [
    {
     "name": "stdout",
     "output_type": "stream",
     "text": [
      "30 20 10 "
     ]
    }
   ],
   "source": [
    "# Insert at the beginning of the LL\n",
    "\n",
    "class Node:\n",
    "    def __init__(self,key):\n",
    "        self.key=key\n",
    "        self.next=None\n",
    "\n",
    "def insertBegin(head,key):\n",
    "        temp=Node(key)\n",
    "        temp.next=head\n",
    "        return temp\n",
    "\n",
    "\n",
    "head=None\n",
    "head=insertBegin(head,10)\n",
    "head=insertBegin(head,20)\n",
    "head=insertBegin(head,30)\n",
    "\n",
    "def printList(head):\n",
    "    curr = head\n",
    "    while curr!= None:\n",
    "        print(curr.key, end=\" \")\n",
    "        curr = curr.next\n",
    "\n",
    "\n",
    "printList(head)"
   ]
  },
  {
   "cell_type": "code",
   "execution_count": 7,
   "id": "a8387e14",
   "metadata": {},
   "outputs": [
    {
     "name": "stdout",
     "output_type": "stream",
     "text": [
      "10 20 30 "
     ]
    }
   ],
   "source": [
    "# Insert at the end of the LL\n",
    "\n",
    "class Node:\n",
    "    def __init__(self,key):\n",
    "        self.key=key\n",
    "        self.next=None\n",
    "\n",
    "def insertEnd(head,key):\n",
    "    if head==None:\n",
    "        return Node(key)\n",
    "    curr=head # Start from the beginning\n",
    "    while curr.next!=None:\n",
    "        curr=curr.next # Go till the end\n",
    "    curr.next=Node(key) # Add new node\n",
    "    return head\n",
    "\n",
    "head=None\n",
    "head=insertEnd(head,10)\n",
    "head=insertEnd(head,20)\n",
    "head=insertEnd(head,30)\n",
    "\n",
    "\n",
    "def printList(head):\n",
    "    curr = head\n",
    "    while curr!= None:\n",
    "        print(curr.key, end=\" \")\n",
    "        curr = curr.next\n",
    "\n",
    "printList(head)"
   ]
  },
  {
   "cell_type": "code",
   "execution_count": 8,
   "id": "6d7b19e4",
   "metadata": {},
   "outputs": [
    {
     "name": "stdout",
     "output_type": "stream",
     "text": [
      "10 20 30 40 50 \n",
      "10 20 30 45 40 50 \n"
     ]
    }
   ],
   "source": [
    "# Insert in the middle of LL\n",
    "\n",
    "class Node:\n",
    "    def __init__(self, k):\n",
    "        self.key = k\n",
    "        self.next = None\n",
    "\n",
    "\n",
    "def insertPos(head,data,pos):\n",
    "\n",
    "    temp = Node(data)\n",
    "\n",
    "    if pos == 1:\n",
    "        temp.next = head\n",
    "        return temp\n",
    "    curr = head\n",
    "\n",
    "    for i in range(pos-2):\n",
    "        curr = curr.next\n",
    "        if curr == None:\n",
    "            return head\n",
    "\n",
    "    temp.next = curr.next\n",
    "    curr.next = temp\n",
    "\n",
    "    return head\n",
    "\n",
    "\n",
    "def printList(head):\n",
    "    curr = head\n",
    "    while curr != None:\n",
    "        print(curr.key, end=\" \")\n",
    "        curr = curr.next\n",
    "    print()\n",
    "\n",
    "\n",
    "head = Node(10)\n",
    "head.next = Node(20)\n",
    "head.next.next = Node(30)\n",
    "head.next.next.next = Node(40)\n",
    "head.next.next.next.next = Node(50)\n",
    "\n",
    "printList(head)\n",
    "\n",
    "head = insertPos(head,45,4)\n",
    "\n",
    "printList(head)"
   ]
  },
  {
   "cell_type": "code",
   "execution_count": 9,
   "id": "e4b42ab4",
   "metadata": {},
   "outputs": [
    {
     "name": "stdout",
     "output_type": "stream",
     "text": [
      "10 20 30 40 \n",
      "20 30 40 \n"
     ]
    }
   ],
   "source": [
    "# Delete First Node from LL\n",
    "\n",
    "class Node:\n",
    "    def __init__(self, k):\n",
    "        self.key = k\n",
    "        self.next = None\n",
    "\n",
    "\n",
    "def delFirst(head):\n",
    "    if head == None:\n",
    "        return None\n",
    "    else:\n",
    "        return head.next\n",
    "\n",
    "\n",
    "def printList(head):\n",
    "    curr = head\n",
    "    while curr != None:\n",
    "        print(curr.key, end=\" \")\n",
    "        curr = curr.next\n",
    "    print()\n",
    "\n",
    "\n",
    "head = Node(10)\n",
    "head.next = Node(20)\n",
    "head.next.next = Node(30)\n",
    "head.next.next.next = Node(40)\n",
    "\n",
    "printList(head)\n",
    "\n",
    "head = delFirst(head)\n",
    "\n",
    "printList(head)"
   ]
  },
  {
   "cell_type": "code",
   "execution_count": 10,
   "id": "b1933fa8",
   "metadata": {},
   "outputs": [
    {
     "name": "stdout",
     "output_type": "stream",
     "text": [
      "10 20 30 40 \n",
      "10 20 30 \n"
     ]
    }
   ],
   "source": [
    "# Delete Last Node of LL\n",
    "class Node:\n",
    "    def __init__(self, k):\n",
    "        self.key = k\n",
    "        self.next = None\n",
    "\n",
    "def deleteNode(head):\n",
    "    if head == None:\n",
    "        return  None\n",
    "\n",
    "    if head.next == None:\n",
    "        return None\n",
    "\n",
    "    curr = head\n",
    "\n",
    "    while curr.next.next != None:\n",
    "        curr = curr.next\n",
    "\n",
    "    curr.next = None\n",
    "    return head\n",
    "\n",
    "\n",
    "\n",
    "def printList(head):\n",
    "    curr = head\n",
    "    while curr != None:\n",
    "        print(curr.key, end=\" \")\n",
    "        curr = curr.next\n",
    "    print()\n",
    "\n",
    "\n",
    "head = Node(10)\n",
    "head.next = Node(20)\n",
    "head.next.next = Node(30)\n",
    "head.next.next.next = Node(40)\n",
    "\n",
    "printList(head)\n",
    "\n",
    "head = deleteNode(head)\n",
    "\n",
    "printList(head)"
   ]
  },
  {
   "cell_type": "code",
   "execution_count": 11,
   "id": "81e8a4cc",
   "metadata": {},
   "outputs": [
    {
     "name": "stdout",
     "output_type": "stream",
     "text": [
      "10\n",
      "20\n",
      "30\n",
      "40\n",
      "\n",
      "10\n",
      "20\n",
      "30\n",
      "35\n",
      "40\n"
     ]
    }
   ],
   "source": [
    "# Sorted LL \n",
    "\n",
    "class Node:\n",
    "    def __init__(self, k):\n",
    "        self.key = k\n",
    "        self.next = None\n",
    "\n",
    "\n",
    "def sortedInsert(head, x):\n",
    "    temp = Node(x)\n",
    "\n",
    "    if head == None:\n",
    "        return temp\n",
    "    elif x < head.key:\n",
    "        temp.next = head\n",
    "        return temp\n",
    "    else:\n",
    "        curr = head\n",
    "\n",
    "        while curr.next != None and curr.next.key < x:\n",
    "            curr = curr.next\n",
    "\n",
    "        temp.next = curr.next\n",
    "        curr.next = temp\n",
    "        return head\n",
    "\n",
    "\n",
    "head = Node(10)\n",
    "head.next = Node(20)\n",
    "head.next.next = Node(30)\n",
    "head.next.next.next = Node(40)\n",
    "\n",
    "h = head\n",
    "while h != None:\n",
    "    print(h.key)\n",
    "    h = h.next\n",
    "\n",
    "print()\n",
    "\n",
    "h = sortedInsert(head, 35)\n",
    "\n",
    "h = head\n",
    "while h != None:\n",
    "    print(h.key)\n",
    "    h = h.next\n"
   ]
  },
  {
   "cell_type": "code",
   "execution_count": 12,
   "id": "4112b883",
   "metadata": {},
   "outputs": [
    {
     "name": "stdout",
     "output_type": "stream",
     "text": [
      "10 20 30 40 \n",
      "40 30 20 10 \n"
     ]
    }
   ],
   "source": [
    "# Reverse a LL\n",
    "\n",
    "class Node:\n",
    "    def __init__(self, k):\n",
    "        self.key = k\n",
    "        self.next = None\n",
    "\n",
    "\n",
    "def reverseList(head):\n",
    "    stack = []\n",
    "\n",
    "    curr = head\n",
    "\n",
    "    while curr is not None:\n",
    "        stack.append(curr.key)\n",
    "        curr = curr.next\n",
    "\n",
    "    curr = head\n",
    "    while curr is not None:\n",
    "        curr.key = stack.pop()\n",
    "        curr = curr.next\n",
    "\n",
    "    return head\n",
    "\n",
    "\n",
    "def printList(head):\n",
    "    curr = head\n",
    "    while curr != None:\n",
    "        print(curr.key, end=\" \")\n",
    "        curr = curr.next\n",
    "    print()\n",
    "\n",
    "\n",
    "head = Node(10)\n",
    "head.next = Node(20)\n",
    "head.next.next = Node(30)\n",
    "head.next.next.next = Node(40)\n",
    "\n",
    "printList(head)\n",
    "\n",
    "head = reverseList(head)\n",
    "\n",
    "printList(head)\n"
   ]
  },
  {
   "cell_type": "code",
   "execution_count": 13,
   "id": "dd34293e",
   "metadata": {},
   "outputs": [
    {
     "name": "stdout",
     "output_type": "stream",
     "text": [
      "10 20 30 40 \n",
      "40 30 20 10 \n"
     ]
    }
   ],
   "source": [
    "# Recursive Reverse A Linked List\n",
    "\n",
    "class Node:\n",
    "    def __init__(self, k):\n",
    "        self.key = k\n",
    "        self.next = None\n",
    "\n",
    "\n",
    "def reverseList(head):\n",
    "    if head == None:\n",
    "        return head\n",
    "\n",
    "    if head.next == None:\n",
    "        return head\n",
    "\n",
    "    rest_head = reverseList(head.next)\n",
    "    rest_tail = head.next\n",
    "    rest_tail.next = head\n",
    "    head.next = None\n",
    "\n",
    "    return rest_head\n",
    "\n",
    "\n",
    "def printList(head):\n",
    "    curr = head\n",
    "    while curr != None:\n",
    "        print(curr.key, end=\" \")\n",
    "        curr = curr.next\n",
    "    print()\n",
    "\n",
    "\n",
    "head = Node(10)\n",
    "head.next = Node(20)\n",
    "head.next.next = Node(30)\n",
    "head.next.next.next = Node(40)\n",
    "\n",
    "printList(head)\n",
    "\n",
    "head = reverseList(head)\n",
    "\n",
    "printList(head)\n"
   ]
  },
  {
   "cell_type": "code",
   "execution_count": null,
   "id": "5f3efaab",
   "metadata": {},
   "outputs": [],
   "source": []
  }
 ],
 "metadata": {
  "kernelspec": {
   "display_name": "Python 3 (ipykernel)",
   "language": "python",
   "name": "python3"
  },
  "language_info": {
   "codemirror_mode": {
    "name": "ipython",
    "version": 3
   },
   "file_extension": ".py",
   "mimetype": "text/x-python",
   "name": "python",
   "nbconvert_exporter": "python",
   "pygments_lexer": "ipython3",
   "version": "3.9.6"
  }
 },
 "nbformat": 4,
 "nbformat_minor": 5
}

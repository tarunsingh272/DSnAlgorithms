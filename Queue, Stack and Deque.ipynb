{
 "cells": [
  {
   "cell_type": "markdown",
   "id": "5cb177d9",
   "metadata": {},
   "source": [
    "LIFO\n",
    "Insertion is Push\n",
    "Deletion is Pop\n",
    "\n",
    "Stack Operations\n",
    "isEmpty()\n",
    "Push(x)\n",
    "Pop()\n",
    "Peek - Returns top item of the stack\n",
    "Size() - Returns size of the stack\n",
    "In python there is no stack class unlike Java and C++\n",
    "We use list implementation for Stack Operations\n",
    "\n",
    "If s: - Returns True if not emplty else False if emppty\n",
    "    \n",
    "Underflow Error , Overflow error \n",
    "List is dynamic sized array "
   ]
  },
  {
   "cell_type": "code",
   "execution_count": 1,
   "id": "2d812e25",
   "metadata": {},
   "outputs": [
    {
     "name": "stdout",
     "output_type": "stream",
     "text": [
      "[10, 20, 30]\n",
      "30\n",
      "20\n",
      "2\n"
     ]
    }
   ],
   "source": [
    "# Creating a stack using List Operation\n",
    "\n",
    "stack = []\n",
    "stack.append(10)\n",
    "stack.append(20)\n",
    "stack.append(30)\n",
    "print(stack)\n",
    "print(stack.pop())\n",
    "\n",
    "top=stack[-1]\n",
    "print(top)\n",
    "size=len(stack)\n",
    "print(size)"
   ]
  },
  {
   "cell_type": "code",
   "execution_count": 3,
   "id": "df27e9fa",
   "metadata": {},
   "outputs": [
    {
     "name": "stdout",
     "output_type": "stream",
     "text": [
      "deque([10, 20, 30])\n",
      "30\n",
      "20\n",
      "2\n"
     ]
    }
   ],
   "source": [
    "# Creating Stack using Deque\n",
    "# Deque is based on doubly linked list\n",
    "# Deque creates empty stack\n",
    "\n",
    "from _collections import deque\n",
    "stack =deque()\n",
    "stack.append(10)\n",
    "stack.append(20)\n",
    "stack.append(30)\n",
    "print(stack)\n",
    "print(stack.pop())\n",
    "\n",
    "top=stack[-1]\n",
    "print(top)\n",
    "size=len(stack)\n",
    "print(size)"
   ]
  },
  {
   "cell_type": "markdown",
   "id": "bfc4b84a",
   "metadata": {},
   "source": [
    "# Stack Applications\n",
    "- Function Calls (LIFO Order)\n",
    "- Checking for Balanced Paranthesis\n",
    "- Reversing items\n",
    "- Infix to Prefix/Postfix\n",
    "- Evaluation of Postfix/Prefic\n",
    "- Stock Span Problem and variations\n",
    "- Undo/Redo Operations\n",
    "- Forward/Backward Operations (Stack is used for URL storage)"
   ]
  },
  {
   "cell_type": "markdown",
   "id": "e18af9c9",
   "metadata": {},
   "source": [
    "#Stacks in Python\n",
    "Using List,   Collections.Deque,   \n",
    "Using Queue.LIFOQUeue,   \n",
    "Using our own Implementation  \n",
    "\n",
    "Push Pop complexity is O(1) constant\n",
    "List has worst complexity of linear whereas in Deque it is constant "
   ]
  },
  {
   "cell_type": "code",
   "execution_count": 4,
   "id": "56499c74",
   "metadata": {},
   "outputs": [
    {
     "name": "stdout",
     "output_type": "stream",
     "text": [
      "30\n",
      "20\n",
      "2\n"
     ]
    }
   ],
   "source": [
    "# Linked List Implementation of Stack in Python\n",
    "# We have to chose end of LL for push and pop operations\n",
    "# If we have double linked list then we have constant Time complexity \n",
    "# Reason being we just reference of head, no dependency on last on second ast node\n",
    "\n",
    "import math\n",
    "class Node:\n",
    "    def __init__(self, d):\n",
    "        self.data = d\n",
    "        self.next = None\n",
    "\n",
    "\n",
    "class MyStack:\n",
    "    def __init__(self):\n",
    "        self.head = None\n",
    "        self.sz = 0\n",
    "\n",
    "    def push(self, x):\n",
    "        temp = Node(x)\n",
    "        temp.next = self.head\n",
    "        self.head = temp\n",
    "        self.sz = self.sz+1\n",
    "\n",
    "    def size(self):\n",
    "        return self.sz\n",
    "\n",
    "    def peek(self):\n",
    "        if self.head == None:\n",
    "            return math.inf\n",
    "        return self.head.data\n",
    "    \n",
    "    def pop(self):\n",
    "        if self.head==None:\n",
    "            return math.inf\n",
    "        res=self.head.data\n",
    "        self.head=self.head.next\n",
    "        self.sz=self.sz-1\n",
    "        return res\n",
    "\n",
    "\n",
    "s=MyStack()\n",
    "s.push(10)\n",
    "s.push(20)\n",
    "s.push(30)\n",
    "print(s.pop())\n",
    "print(s.peek())\n",
    "print(s.size())"
   ]
  },
  {
   "cell_type": "code",
   "execution_count": 5,
   "id": "20eed73d",
   "metadata": {},
   "outputs": [
    {
     "name": "stdout",
     "output_type": "stream",
     "text": [
      "(())\n",
      "True\n",
      "((})\n",
      "False\n"
     ]
    }
   ],
   "source": [
    "# Check for matchin balanced parathesis \n",
    "\n",
    "def isMatching(a, b):\n",
    "    if (a == '(' and b == ')') or \\\n",
    "            (a == '{' and b == '}') or \\\n",
    "            (a == '[' and b == ']'):\n",
    "        return True\n",
    "    else:\n",
    "        return False\n",
    "\n",
    "\n",
    "def isBalanced(exper):\n",
    "    stack = []\n",
    "    for x in exper:\n",
    "        if x in ('(', '{', '['):\n",
    "            stack.append(x)\n",
    "        else:\n",
    "            if not stack:\n",
    "                return False\n",
    "            elif isMatching(stack[-1], x) == False:\n",
    "                return False\n",
    "            else:\n",
    "                stack.pop()\n",
    "    if stack:\n",
    "        return False\n",
    "    else:\n",
    "        return True\n",
    "\n",
    "\n",
    "a = input()\n",
    "\n",
    "print(isBalanced(a))\n",
    "\n",
    "a = input()\n",
    "\n",
    "print(isBalanced(a))\n"
   ]
  },
  {
   "cell_type": "code",
   "execution_count": null,
   "id": "4f546933",
   "metadata": {},
   "outputs": [],
   "source": [
    "# Infix, Prefix and Postfix Implementation\n",
    "Infix = x + y\n",
    "Prefix = +xy\n",
    "Postfix = xy+\n",
    "\n",
    "In prefix and postfix we do not need parethesis, precedence rules and associativity\n",
    "Precedence and Associativity rules when we have multiple operators\n",
    "Lower < higher\n",
    "Associativity - Left to Right or Right to Left \n",
    "Same precedence operators have same associativity\n",
    "^ > *,/ > +,-\n"
   ]
  },
  {
   "cell_type": "code",
   "execution_count": null,
   "id": "39a31703",
   "metadata": {},
   "outputs": [],
   "source": []
  },
  {
   "cell_type": "markdown",
   "id": "6b3e2da8",
   "metadata": {},
   "source": [
    "# Queue"
   ]
  },
  {
   "cell_type": "markdown",
   "id": "53e4ae8b",
   "metadata": {},
   "source": [
    "FIFO\n",
    "\n",
    "Operations\n",
    "enqueue(), dequeue(), getFront(), getBack(), size(), isEmpty()  \n",
    "Similar to Supply chain system  \n",
    "\n",
    "-- Applications of Queue\n",
    "- Single Resource and Multiple Consumers,  Ticketing , Processor\n",
    "- Synchronisation between Slow and Fast devices\n",
    "- In operating systems (Scheduling, FCFS, Buffer for devices like Keyboard)\n",
    "- In Computer Networks\n",
    "- variations - Deque, Priority Queue, Doubly Ended Priority Queue"
   ]
  },
  {
   "cell_type": "code",
   "execution_count": 6,
   "id": "2b90bac0",
   "metadata": {},
   "outputs": [
    {
     "name": "stdout",
     "output_type": "stream",
     "text": [
      "[10, 20, 30]\n",
      "10\n",
      "[20, 30]\n",
      "[20, 30, 40]\n",
      "20\n",
      "[30, 40]\n",
      "2\n",
      "30\n",
      "40\n"
     ]
    }
   ],
   "source": [
    "# List implemntation of Queue\n",
    "q = []\n",
    "q.append(10)\n",
    "q.append(20)\n",
    "q.append(30)\n",
    "\n",
    "print(q)\n",
    "print(q.pop(0))\n",
    "print(q)\n",
    "q.append(40)\n",
    "print(q)\n",
    "print(q.pop(0))\n",
    "print(q)\n",
    "print(len(q))\n",
    "print(q[0])\n",
    "print(q[-1])"
   ]
  },
  {
   "cell_type": "code",
   "execution_count": 7,
   "id": "b71460a4",
   "metadata": {},
   "outputs": [
    {
     "name": "stdout",
     "output_type": "stream",
     "text": [
      "deque([10, 20, 30])\n",
      "10\n",
      "20\n",
      "2\n",
      "30\n",
      "40\n"
     ]
    }
   ],
   "source": [
    "# Deque Implementation\n",
    "from _collections import deque\n",
    "\n",
    "q = deque()\n",
    "\n",
    "q.append(10)\n",
    "q.append(20)\n",
    "q.append(30)\n",
    "print(q)\n",
    "print(q.popleft())\n",
    "q.append(40)\n",
    "print(q.popleft())\n",
    "print(len(q))\n",
    "print(q[0])\n",
    "print(q[-1])"
   ]
  },
  {
   "cell_type": "code",
   "execution_count": 8,
   "id": "3d3dc0e5",
   "metadata": {},
   "outputs": [
    {
     "name": "stdout",
     "output_type": "stream",
     "text": [
      "10 10\n",
      "10 20\n",
      "10 30\n",
      "20 30\n"
     ]
    }
   ],
   "source": [
    "# Linked List Implementation of Queue\n",
    "\n",
    "class Node:\n",
    "    def __init__(self, k):\n",
    "        self.key = k\n",
    "        self.next = None\n",
    "\n",
    "\n",
    "class MyQueue:\n",
    "    def __init__(self):\n",
    "        self.front = None\n",
    "        self.rear = None\n",
    "        self.sz = 0\n",
    "\n",
    "    def size(self):\n",
    "        return self.sz\n",
    "\n",
    "    def isEmpty(self):\n",
    "        return self.sz == 0\n",
    "\n",
    "    def getFront(self):\n",
    "        return self.front.key\n",
    "\n",
    "    def getRear(self):\n",
    "        return self.rear.key\n",
    "\n",
    "    def enque(self, x):\n",
    "        temp = Node(x)\n",
    "        if self.rear == None:\n",
    "            self.front = temp\n",
    "        else:\n",
    "            self.rear.next = temp\n",
    "\n",
    "        self.rear = temp\n",
    "        self.sz = self.sz + 1\n",
    "\n",
    "    def deque(self):\n",
    "        if self.front == None:\n",
    "            return None\n",
    "        else:\n",
    "            res = self.front.key\n",
    "            self.front = self.front.next\n",
    "            if self.front == None:\n",
    "                self.rear = None\n",
    "            self.sz = self.sz - 1\n",
    "            return res\n",
    "\n",
    "\n",
    "q = MyQueue()\n",
    "q.enque(10)\n",
    "print(q.getFront(), q.getRear())\n",
    "q.enque(20)\n",
    "print(q.getFront(), q.getRear())\n",
    "q.enque(30)\n",
    "print(q.getFront(), q.getRear())\n",
    "q.deque()\n",
    "print(q.getFront(), q.getRear())"
   ]
  },
  {
   "cell_type": "code",
   "execution_count": null,
   "id": "cd665119",
   "metadata": {},
   "outputs": [],
   "source": []
  }
 ],
 "metadata": {
  "kernelspec": {
   "display_name": "Python 3 (ipykernel)",
   "language": "python",
   "name": "python3"
  },
  "language_info": {
   "codemirror_mode": {
    "name": "ipython",
    "version": 3
   },
   "file_extension": ".py",
   "mimetype": "text/x-python",
   "name": "python",
   "nbconvert_exporter": "python",
   "pygments_lexer": "ipython3",
   "version": "3.9.6"
  }
 },
 "nbformat": 4,
 "nbformat_minor": 5
}

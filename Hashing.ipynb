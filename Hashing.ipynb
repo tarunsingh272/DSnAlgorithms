{
 "cells": [
  {
   "cell_type": "markdown",
   "id": "692b71f9",
   "metadata": {},
   "source": [
    "Hashing is used to implement Dictionaries and Sets   \n",
    "Insertion, Deletion and Search have complexity of O(1) constant on average  \n",
    "Array we have atleast one operation with BigO(n) - depends sorted or unsorted  \n",
    "BST takes BigO(logn)   "
   ]
  },
  {
   "cell_type": "markdown",
   "id": "258dd302",
   "metadata": {},
   "source": [
    "Hashing not useful for \n",
    "1. Finding closest value\n",
    "2. Sorted Data (Use AVL Tree or Cell Balancing BST)\n",
    "3. Prefix Searching - Trie"
   ]
  },
  {
   "cell_type": "code",
   "execution_count": 1,
   "id": "cbd3dd5e",
   "metadata": {},
   "outputs": [
    {
     "ename": "SyntaxError",
     "evalue": "invalid syntax (434418961.py, line 2)",
     "output_type": "error",
     "traceback": [
      "\u001b[0;36m  File \u001b[0;32m\"/var/folders/3s/ml2_70310395dkxnv0q498lr0000gn/T/ipykernel_16005/434418961.py\"\u001b[0;36m, line \u001b[0;32m2\u001b[0m\n\u001b[0;31m    1. Dictionaries - search a word, variation\u001b[0m\n\u001b[0m       ^\u001b[0m\n\u001b[0;31mSyntaxError\u001b[0m\u001b[0;31m:\u001b[0m invalid syntax\n"
     ]
    }
   ],
   "source": [
    "# Applications of Hashing\n",
    "1. Dictionaries - search a word, variation\n",
    "2. Database Indexing\n",
    "3. Cryptography - Paasword and ol \n",
    "4. Caches - URL are keys and content is value\n",
    "5. Routers - IP address device\n",
    "6. Getting data from databases - Use cols as key and get data as values or associative arrays\n",
    "\n",
    "# Hashing Functions\n",
    "Universe of Keys -- Hash Functions -- Database Table\n",
    "Large universe of keys -- apply some hash functions - convert them to small values \n",
    "\n",
    "# How a hash function works\n",
    "1. Should always map a large key to some small key\n",
    "2. Should generate va;ues from 0 to m-1\n",
    "3. Should be fast, O(1) for integer and O(len) for string length len\n",
    "4. Should uniformly distribute large keys to hash tabeles slots\n",
    "\n",
    "# Collision in hash functions and hash table size \n",
    "# Hash table size depends on number of keys we will insert in hash table\n",
    "# One hash index/key can have multiple values\n",
    "# h(large_key) = large_key % m\n",
    "# For strings, weighted sum\n",
    "# Universal Hashing"
   ]
  },
  {
   "cell_type": "code",
   "execution_count": null,
   "id": "49d50f2a",
   "metadata": {},
   "outputs": [],
   "source": [
    "# Universe is big, Hash table is small, so 2 keys can map to same hash value in hash table\n",
    "# Birthday Paradox, 23 people - 50% , 70 - 99% chances with same birthday\n",
    "# If we know keys in advance, then we can Perfect hashing\n",
    "# If we do not know keys in advance then Collision is bound to happen\n",
    "# Chaining and Open Addressing \n",
    "\n",
    "# Chaining \n",
    "1. We have array of linked list headers\n",
    "2. hash(key) = key % 7 -- eg hash function\n",
    "3. keys = [50, 21, 58, 17, 15, 48, 56, 22, 23, 25]\n",
    "4. Add each key to that linked list as new node\n",
    "\n",
    "# Performance\n",
    "1. Load factor = No of keys in hash table/No of keys to be inserted\n",
    "2. Load factor should be small to have low collision \n",
    "3. Expected Chain length = Load factor\n",
    "4. Expected time to search, insert or delete = O(1+load factor)\n",
    "\n",
    "# Data Strcutures for Storing Chains\n",
    "1. Linked List - Search O(l) , Delete O(l) - Not cache friendly\n",
    "2. Dynamic Sized Araays - Insert, Delete, Search - O(l)\n",
    "3. Self Balancing BST ( AVL Trees, Red Block Tree)\n",
    "O(logl) for S, I and D - Not cache friendly"
   ]
  },
  {
   "cell_type": "code",
   "execution_count": null,
   "id": "8fcc6d8a",
   "metadata": {},
   "outputs": [],
   "source": [
    "# Chaining in Python\n",
    "class MyHash:\n",
    "    def __init__(self, b):\n",
    "        self.BUCKET = b\n",
    "        self.table = [[] for x in range(b)]\n",
    "\n",
    "    def insert(self, x):\n",
    "        i = x % self.BUCKET\n",
    "        self.table[i].append(x)\n",
    "\n",
    "    def remove(self, x):\n",
    "        i = x % self.BUCKET\n",
    "        if x in self.table[i]:\n",
    "            self.table[i].remove(x)\n",
    "\n",
    "    def search(self, x):\n",
    "        i = x % self.BUCKET\n",
    "        return x in self.table[i]\n",
    "\n",
    "\n",
    "h = MyHash(7)\n",
    "h.insert(70)\n",
    "h.insert(71)\n",
    "h.insert(9)\n",
    "h.insert(56)\n",
    "h.insert(72)\n",
    "print(h.search(56))\n",
    "h.remove(56)\n",
    "print(h.search(56))\n",
    "h.remove(56)"
   ]
  }
 ],
 "metadata": {
  "kernelspec": {
   "display_name": "Python 3 (ipykernel)",
   "language": "python",
   "name": "python3"
  },
  "language_info": {
   "codemirror_mode": {
    "name": "ipython",
    "version": 3
   },
   "file_extension": ".py",
   "mimetype": "text/x-python",
   "name": "python",
   "nbconvert_exporter": "python",
   "pygments_lexer": "ipython3",
   "version": "3.9.6"
  }
 },
 "nbformat": 4,
 "nbformat_minor": 5
}
